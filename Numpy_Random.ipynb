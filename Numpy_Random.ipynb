{
 "cells": [
  {
   "cell_type": "markdown",
   "metadata": {},
   "source": [
    "# Numpy Random Assignment 2019"
   ]
  },
  {
   "cell_type": "markdown",
   "metadata": {},
   "source": [
    "The following assignment concerns the numpy.random package in Python. A Jupyter notebook was created explaining the use of the package, including detailed explanations of at least five of the distributions provided for in the package.\n",
    "\n",
    "There are four distinct tasks carried out in this Jupyter notebook:\n",
    "\n",
    "1. Explain the overall purpose of the package.\n",
    "2. Explain the use of the “Simple random data” and “Permutations” functions.\n",
    "3. Explain the use and purpose of at least five “Distributions” functions.\n",
    "4. Explain the use of seeds in generating pseudorandom numbers."
   ]
  },
  {
   "cell_type": "code",
   "execution_count": 1,
   "metadata": {},
   "outputs": [],
   "source": [
    "import numpy as np\n",
    "import matplotlib.pyplot as plt\n",
    "import pandas as pd\n",
    "import scipy.special as sps\n",
    "%matplotlib inline"
   ]
  },
  {
   "cell_type": "markdown",
   "metadata": {},
   "source": [
    "# Use of Numpy.Random Package\n",
    "\n",
    "Most random data generated with Python is not fully random in the scientific sense of the word. Rather, it is pseudorandom: generated with a pseudorandom number generator (PRNG), which is essentially any algorithm for generating seemingly random but still reproducible data.\n",
    "Probably the most widely known tool for generating random data in Python is its numpy.random module, which uses the Mersenne Twister PRNG algorithm as its core generator.The Mersenne Twister is a pseudorandom number generator (PRNG). It is by far the most widely used general-purpose PRNG. Its name derives from the fact that its period length is chosen to be a Mersenne prime."
   ]
  },
  {
   "cell_type": "markdown",
   "metadata": {},
   "source": [
    "# Simple Random Data\n",
    "\n",
    "This section will use serveral functions that will be used to generated random data."
   ]
  },
  {
   "cell_type": "markdown",
   "metadata": {},
   "source": [
    "# numpy.random.rand function"
   ]
  },
  {
   "cell_type": "code",
   "execution_count": 2,
   "metadata": {},
   "outputs": [],
   "source": [
    "Array_1 = np.random.rand(10)\n",
    "Array_2 = np.random.rand(10)\n",
    "Array_3 = np.random.rand(2,10)\n",
    "Array_4 = np.random.rand(2,10)"
   ]
  },
  {
   "cell_type": "code",
   "execution_count": 3,
   "metadata": {},
   "outputs": [
    {
     "name": "stdout",
     "output_type": "stream",
     "text": [
      "First Array: [0.70911959 0.79472271 0.96753238 0.3285924  0.13981552 0.73249101\n",
      " 0.79352106 0.35189927 0.65804309 0.9586926 ]\n",
      "Second Array: [0.70976891 0.02001332 0.5298926  0.79871903 0.64038039 0.82348663\n",
      " 0.90581023 0.96333694 0.55715116 0.2569201 ]\n",
      "Third Array: [[0.08051555 0.11560696 0.10882185 0.53817068 0.76361442 0.46318087\n",
      "  0.52262477 0.38099695 0.31340265 0.52134399]\n",
      " [0.99696258 0.76804039 0.97913771 0.70375988 0.40233886 0.6583219\n",
      "  0.16371206 0.47931979 0.15590568 0.87148457]]\n",
      "Fourth Array: [[0.40935977 0.94265825 0.38323283 0.45191966 0.34318843 0.07971406\n",
      "  0.28199931 0.69733523 0.27873375 0.48816017]\n",
      " [0.49860856 0.30157749 0.65891276 0.40789718 0.27325941 0.84033295\n",
      "  0.59614798 0.88343275 0.61638319 0.34488566]]\n"
     ]
    }
   ],
   "source": [
    "print(\"First Array:\",Array_1)\n",
    "print(\"Second Array:\",Array_2)\n",
    "print(\"Third Array:\",Array_3)\n",
    "print(\"Fourth Array:\",Array_4)"
   ]
  },
  {
   "cell_type": "code",
   "execution_count": 4,
   "metadata": {},
   "outputs": [
    {
     "data": {
      "image/png": "[encoded data removed]",
      "text/plain": [
       "<Figure size 432x288 with 1 Axes>"
      ]
     },
     "metadata": {
      "needs_background": "light"
     },
     "output_type": "display_data"
    },
    {
     "data": {
      "image/png": "[encoded data removed]",
      "text/plain": [
       "<Figure size 432x288 with 1 Axes>"
      ]
     },
     "metadata": {
      "needs_background": "light"
     },
     "output_type": "display_data"
    },
    {
     "data": {
      "image/png": "[encoded data removed]",
      "text/plain": [
       "<Figure size 432x288 with 1 Axes>"
      ]
     },
     "metadata": {
      "needs_background": "light"
     },
     "output_type": "display_data"
    },
    {
     "data": {
      "image/png": "[encoded data removed]",
      "text/plain": [
       "<Figure size 432x288 with 1 Axes>"
      ]
     },
     "metadata": {
      "needs_background": "light"
     },
     "output_type": "display_data"
    }
   ],
   "source": [
    "# Show some histograms of data for some of arrays\n",
    "Hist_Array_1 = np.random.rand(1000)\n",
    "plt.hist(Hist_Array_1, bins=20)\n",
    "plt.show()\n",
    "Hist_Array_2 = np.random.rand(1000)\n",
    "plt.hist(Hist_Array_2, bins=20)\n",
    "plt.show()\n",
    "\n",
    "# change in bin number\n",
    "\n",
    "Hist_Array_1 = np.random.rand(1000)\n",
    "plt.hist(Hist_Array_1, bins=100)\n",
    "plt.show()\n",
    "Hist_Array_2 = np.random.rand(1000)\n",
    "plt.hist(Hist_Array_2, bins=100)\n",
    "plt.show()"
   ]
  },
  {
   "cell_type": "code",
   "execution_count": 5,
   "metadata": {},
   "outputs": [
    {
     "name": "stdout",
     "output_type": "stream",
     "text": [
      "                 0\n",
      "count  1000.000000\n",
      "mean      0.504772\n",
      "std       0.285352\n",
      "min       0.001020\n",
      "25%       0.269238\n",
      "50%       0.506759\n",
      "75%       0.749393\n",
      "max       0.999160\n",
      "                 0\n",
      "count  1000.000000\n",
      "mean      0.506482\n",
      "std       0.285163\n",
      "min       0.000127\n",
      "25%       0.267513\n",
      "50%       0.506199\n",
      "75%       0.747122\n",
      "max       0.999865\n"
     ]
    }
   ],
   "source": [
    "# Build a data frame and some some stats through describe function\n",
    "\n",
    "df_1 = pd.DataFrame(Hist_Array_1)\n",
    "print(df_1.describe())\n",
    "df_2 = pd.DataFrame(Hist_Array_2)\n",
    "print(df_2.describe())"
   ]
  },
  {
   "cell_type": "markdown",
   "metadata": {},
   "source": [
    "# numpy.random.randn function"
   ]
  },
  {
   "cell_type": "code",
   "execution_count": 6,
   "metadata": {},
   "outputs": [],
   "source": [
    "Array_5 = np.random.randn(1000)"
   ]
  },
  {
   "cell_type": "code",
   "execution_count": 7,
   "metadata": {},
   "outputs": [
    {
     "name": "stdout",
     "output_type": "stream",
     "text": [
      "Fith Array: [-9.40822218e-02 -9.42394551e-01  2.98243064e-02 -1.08684268e+00\n",
      " -1.57178455e+00  5.96394736e-01  9.14839900e-01  9.19136716e-01\n",
      " -9.29430360e-01  7.57024130e-03 -4.00981754e-01  9.59254826e-01\n",
      " -4.48570309e-01  1.59103575e+00  2.45121753e+00  8.95245431e-01\n",
      "  3.24366366e-01 -7.77955712e-01  8.63431267e-01  4.79216049e-01\n",
      "  1.00476448e+00 -2.51950097e-01  5.21837217e-01  4.80563412e-01\n",
      " -2.94316312e-02 -3.40435311e-01  6.35243505e-01  1.92255018e-02\n",
      " -6.68541140e-01 -1.66767396e+00 -1.21687443e+00 -2.80988994e-01\n",
      "  4.05349469e-01 -5.47016664e-01  7.40887815e-01 -1.23108050e+00\n",
      " -9.54114105e-01  4.41863179e-01 -2.29352537e-01 -1.06950697e-01\n",
      " -3.51349735e-01  1.08885496e+00 -8.89798906e-01  8.67809388e-01\n",
      "  6.85531938e-01 -1.39801694e-01  1.16060343e+00 -7.61392061e-01\n",
      "  1.08992399e+00 -7.52721907e-01 -1.59733561e+00 -5.12851343e-01\n",
      "  1.20819466e+00  8.96634846e-01  1.98145692e+00  2.74225407e+00\n",
      " -1.22700737e+00 -6.56903712e-02  1.00758737e+00  6.56265660e-01\n",
      "  2.77080021e-01  3.60845768e-01 -2.14561632e-01  3.20725857e-01\n",
      "  4.91490788e-01 -2.12893506e-01 -1.62384862e+00 -4.40498082e-01\n",
      "  1.31319557e+00 -4.56666607e-01 -9.37995190e-02 -3.86877170e-01\n",
      " -8.32333111e-01  1.14799258e+00 -2.02275802e-01  3.65504332e-01\n",
      " -1.29482453e-01  2.10974104e-01  2.44067893e-01 -8.54228534e-01\n",
      "  1.53493144e-01  1.59383108e-01  5.18215668e-02 -9.10834004e-02\n",
      " -1.03830931e-01  2.20430324e-01 -4.20406721e-01  1.57211931e-01\n",
      "  1.65698437e+00  7.24787416e-01  1.91845994e+00 -2.43667589e+00\n",
      " -8.93212929e-01  2.68457081e+00 -9.53587237e-01  5.74274403e-01\n",
      "  1.53204231e+00  1.15757751e-01  5.43331881e-01 -9.58384922e-02\n",
      "  1.11942999e+00 -2.35575192e-01  5.73370299e-01 -3.21113902e-01\n",
      " -7.81888855e-01 -1.00317764e+00  1.56887917e+00  5.42544731e-01\n",
      "  2.07446751e+00  1.02124688e+00  8.11096675e-01  6.58296397e-01\n",
      " -8.58058471e-01  1.07869689e+00  3.34189120e-01 -1.89645387e-01\n",
      "  7.23668238e-01 -3.73839907e-01  5.27363010e-02 -1.70358631e+00\n",
      "  1.08101290e+00  5.60067768e-01 -2.50347449e-01 -1.11845186e+00\n",
      " -1.14810631e+00  4.14709538e-01 -1.04810863e+00 -7.83965867e-01\n",
      "  9.27987589e-01  5.31076174e-01  1.46324952e+00  1.38336620e+00\n",
      "  1.56327409e+00 -1.26377605e+00  8.19732075e-01 -3.58530149e+00\n",
      "  2.00069507e-01 -1.82224155e-01 -2.50424758e-01 -2.52965996e+00\n",
      " -7.70030367e-01  4.66477062e-01 -1.09391168e+00  6.29782262e-01\n",
      " -7.07478169e-01 -1.35990568e-01 -1.33615203e-01  1.07638796e+00\n",
      " -9.03309444e-01 -2.30016028e+00 -2.43257340e-01 -4.11939886e-01\n",
      "  1.81256735e-01  1.19999115e+00  1.35166438e+00  1.56921201e+00\n",
      " -4.71944063e-01  2.24480856e-01  2.06147943e+00  7.02771831e-01\n",
      " -1.58102699e+00 -4.39102523e-01  1.05768416e+00  3.96901702e-01\n",
      "  1.22531779e+00 -3.29321646e-01  8.66422536e-01 -8.21192999e-01\n",
      " -1.00646908e+00 -1.91535168e+00  1.70796031e+00  8.95238878e-01\n",
      "  1.96936924e+00 -3.51693517e-01  8.75808171e-02  6.82952486e-01\n",
      " -2.99208043e-01 -1.24885687e+00 -5.76655449e-01 -1.12443832e+00\n",
      " -6.19547480e-01 -1.23637113e+00 -1.04348619e+00  5.30568494e-02\n",
      " -4.62844603e-01  1.92856146e+00  1.02125981e+00 -7.68938586e-01\n",
      " -3.00740967e-01  8.76235864e-01 -1.10988864e+00 -1.20877226e-01\n",
      "  2.06343912e+00  1.67876309e-01  4.90425985e-01 -7.18153081e-01\n",
      "  8.10239598e-01 -2.62699616e-01 -1.65935933e-01 -2.16341428e-01\n",
      " -1.29335561e+00 -1.38318701e+00  3.66585797e-01 -9.47379613e-02\n",
      " -5.29370684e-01 -5.75008183e-02 -8.14784163e-02 -9.70087725e-01\n",
      "  9.72668277e-01  5.00903731e-01  2.18420872e-01 -2.67129980e-01\n",
      " -1.90705860e-01  1.02774253e+00 -1.62471185e-01 -8.99341712e-01\n",
      " -7.50443720e-01 -1.39479411e+00  1.21407438e-01 -3.30329293e-01\n",
      " -4.36143410e-01 -1.13358764e-01  4.91141022e-01 -7.76983860e-01\n",
      "  8.73875473e-01 -8.98022249e-01  1.43248422e-01  4.52018010e-01\n",
      "  2.14250160e-01  9.79491146e-01 -1.26146553e+00  3.57649262e-01\n",
      " -1.86796240e+00 -5.24324940e-01 -9.63186796e-02  2.85497925e-02\n",
      " -1.59776266e-02  3.78856565e-01  2.07009436e-01 -1.85946809e-01\n",
      " -6.26881576e-01 -1.80000998e+00 -1.25910422e+00 -1.27950179e-02\n",
      "  5.34866844e-02  8.49981284e-01 -2.35864309e+00 -7.17086880e-01\n",
      " -5.46514942e-02 -1.90439331e+00  1.21194009e+00 -8.84000768e-01\n",
      "  4.16163501e-01  8.59470697e-01 -1.58660854e-01 -3.20911096e-01\n",
      " -1.22616350e+00 -1.26501873e+00 -4.01658208e-01  8.88323560e-01\n",
      "  1.82836373e+00 -9.39101813e-02 -3.44807825e+00 -1.32091400e+00\n",
      "  4.58092472e-01  1.58124019e+00  9.10843071e-01 -2.51742312e-01\n",
      " -5.65237674e-01 -6.14327852e-01 -5.75565789e-01  9.12419439e-01\n",
      " -4.52428443e-01  8.15812419e-01 -1.70344208e+00 -4.55240670e-01\n",
      "  3.02757953e-01 -1.30964386e-02 -1.70961164e+00 -5.23763904e-01\n",
      " -1.04796354e+00  2.87071002e+00  3.60213530e-01  1.92721621e+00\n",
      "  1.40152858e+00  1.98628709e+00  4.78686966e-01 -4.43917403e-01\n",
      " -4.16546993e-02  1.31838758e+00  4.24228684e-01 -2.68049210e-01\n",
      " -2.40713814e-01  1.22277693e+00 -2.37792528e-01  1.04314177e+00\n",
      "  3.30632371e-01 -7.25827962e-01 -1.43160051e+00  7.53741196e-02\n",
      " -9.08714181e-01  8.81194677e-02 -1.17528087e+00  1.91921541e+00\n",
      " -1.28341043e+00  1.43970266e+00 -2.41928151e-01  2.21181331e-01\n",
      "  1.52221369e-01  7.09640312e-01 -8.79924548e-01 -5.22445206e-01\n",
      "  5.37881700e-01  1.10876530e+00  1.37223589e+00 -5.83619161e-01\n",
      " -1.25177369e+00  8.06370538e-01  2.78332138e-01  1.15287654e+00\n",
      " -1.19621489e+00  1.21585858e+00 -1.46481105e-01 -4.41749355e-01\n",
      "  1.60455400e+00 -1.58447293e+00  2.44210263e-01  3.12310539e-01\n",
      "  1.07744673e+00  1.25793004e+00  4.63291392e-01 -1.32805079e-01\n",
      "  1.29441571e-01  1.06222109e+00  1.75094632e+00  1.61203847e+00\n",
      "  6.18334327e-02  8.29690078e-01 -2.76180971e+00  3.16268590e-01\n",
      " -1.03986320e+00 -1.03536774e+00 -2.21826132e-01  2.06966365e+00\n",
      " -3.59886951e-01 -8.76138038e-01  1.86336590e+00 -9.34156207e-01\n",
      " -9.71941647e-01  1.68522035e+00  6.91365209e-01 -5.79176462e-01\n",
      "  1.79874019e-01  2.41554591e-01 -6.67750167e-01  7.69972726e-01\n",
      " -6.42581190e-01 -5.41781485e-01  4.65363161e-01 -9.09564861e-01\n",
      " -1.33263986e+00 -1.05532035e+00 -3.62542991e-01  4.54096365e-01\n",
      "  8.73423824e-01 -4.77618915e-01 -8.64638834e-01  8.48786533e-01\n",
      " -9.34593610e-01 -1.02810254e+00 -1.94581178e+00 -1.33654057e-01\n",
      "  5.40396345e-01 -2.76919719e+00 -9.12670167e-02  5.53975272e-01\n",
      "  1.21761714e+00  9.16895661e-02  1.44267831e-01 -2.34994015e-01\n",
      "  4.48004760e-01 -5.72262468e-01  8.08048730e-01 -1.92564687e+00\n",
      "  5.22678894e-01 -8.12952336e-01  1.45976114e-01 -1.05842673e+00\n",
      " -8.26888589e-01 -1.19445310e+00  1.94479316e-01  8.81170139e-01\n",
      " -4.02914589e-02  9.55583172e-01  1.99124455e+00 -7.19328451e-01\n",
      "  1.11223514e+00 -3.38296839e-01 -4.49335892e-01 -9.02820059e-01\n",
      "  1.27048914e+00 -6.36534643e-01 -9.66775293e-01 -2.31273915e-01\n",
      "  1.28947330e+00  3.14930913e-01  1.52835997e-01 -6.21723457e-01\n",
      " -7.86488692e-01  3.31983223e-01 -1.16398366e+00 -9.45332543e-01\n",
      "  1.46601160e+00  1.33098155e-01  1.72067011e+00  1.05304168e+00\n",
      "  1.66448701e+00 -2.86413412e-01  5.41313103e-01 -9.95202485e-01\n",
      " -6.64567495e-01  8.51220467e-01  9.90625386e-01  6.18388859e-01\n",
      "  7.62709604e-01  9.39634435e-01 -2.08303419e+00  1.41478460e-01\n",
      "  1.27710717e-01 -1.18287242e-01  6.28291078e-02 -1.19345548e+00\n",
      " -6.50333511e-01  1.15543548e+00 -1.63757074e-01  1.42558449e+00\n",
      "  5.69148675e-01 -1.77970562e+00  1.16017781e-01  7.80416853e-02\n",
      " -8.71552490e-01 -3.16212854e-01 -3.28326587e-01 -5.09413383e-01\n",
      "  1.77651001e-01 -1.58610100e-01  5.99530548e-01  9.68554606e-01\n",
      " -4.52619921e-01  1.14845414e+00 -7.94978339e-02  3.76358555e-01\n",
      "  4.44827873e-01 -3.34812039e-01  1.05742275e+00  1.32454726e+00\n",
      " -1.30909426e+00 -1.54206648e+00 -2.31958614e-01  1.76450862e+00\n",
      " -1.61885226e+00  1.74085367e+00 -4.00766728e-02 -1.35918197e-01\n",
      "  2.86856921e-01  1.12858348e+00  1.76539087e-01 -1.98089930e-01\n",
      " -6.08223775e-01 -1.41308487e-01  6.40362626e-01 -8.84466075e-01\n",
      " -4.18319856e-01  1.96200637e-01  2.37788156e+00 -4.97763267e-02\n",
      "  1.83762035e-01 -1.17049426e+00 -1.28106297e+00  7.84143692e-01\n",
      " -4.84231746e-01  1.52229303e+00  3.24211788e-01 -1.67559033e+00\n",
      "  1.12455991e+00 -6.16659693e-01 -8.80978511e-01 -2.72419742e+00\n",
      " -1.80968795e-01 -1.27378907e+00  7.72941693e-01 -6.12690057e-01\n",
      " -5.48473084e-01  1.34132788e+00  1.26511316e+00  2.13094287e+00\n",
      "  1.15972810e+00  7.20561357e-01 -2.43261225e-01 -1.03850142e+00\n",
      " -1.43950994e-01 -4.98693563e-01  7.79312151e-01  1.80839729e+00\n",
      "  8.09071835e-01 -1.24004738e+00 -2.04357340e-01 -1.10790118e+00\n",
      "  2.88955802e-01 -1.18437521e+00  4.45653856e-01  2.36528582e+00\n",
      "  1.49636296e-01  1.12360458e+00  4.71258817e-01 -6.12664485e-01\n",
      "  5.17734359e-01 -4.95543808e-01  1.16751920e+00  5.44261684e-01\n",
      " -1.05162638e+00  7.81646536e-01  9.13080034e-01 -1.11967863e+00\n",
      " -1.21374700e+00  1.05927319e+00 -4.73812705e-01 -1.58658977e+00\n",
      "  4.19824382e-01  2.29190642e-03 -1.99063795e-01  2.78946045e-02\n",
      " -1.45906528e+00  1.26907755e+00 -6.42582536e-01  2.19899145e-01\n",
      "  9.13434606e-01  4.59685627e-01  2.38768984e-01  8.01573762e-01\n",
      "  3.10133613e-01 -6.69299036e-01  7.23814409e-01  8.64451629e-01\n",
      "  5.11272846e-01  4.01693907e-01  4.64492267e-01  8.40526017e-01\n",
      "  2.24623561e-02 -1.83921866e+00 -9.07015298e-01 -1.26845581e+00\n",
      " -3.27233477e-01 -3.08587656e-01 -9.39364118e-01 -3.01581703e-01\n",
      " -7.57133224e-01 -1.91661407e-01  1.07232927e+00  1.08859363e+00\n",
      "  1.96709206e+00 -3.33968586e-01 -5.11481590e-01  2.13892677e-01\n",
      "  8.50995827e-02  4.90209360e-02 -4.03281783e-01  3.28337781e-01\n",
      "  1.93041965e+00  2.04166516e-01 -3.12544203e-01  1.72142238e+00\n",
      "  2.79233812e-01 -9.07899376e-01  2.55793034e+00  2.04462915e-01\n",
      " -4.53961603e-01  2.42130153e-01  4.89355562e-01 -6.49330417e-01\n",
      " -1.85571363e+00 -1.15157467e+00 -5.63615175e-01  6.33059498e-02\n",
      "  5.37376771e-01  1.86452590e-01 -8.88696117e-01  7.40614637e-01\n",
      " -1.09874343e-01  1.83702072e+00  2.09921879e+00  1.38447068e+00\n",
      " -6.13543041e-01 -6.22247300e-01  1.16879811e-01  2.55954349e-01\n",
      " -2.75014222e-01 -5.67376723e-02 -1.25317888e+00 -1.02171871e-01\n",
      "  1.62676304e+00 -5.96780199e-01  9.63655313e-01 -1.75605861e+00\n",
      " -1.03362247e+00 -1.69855460e+00 -1.53739654e-01 -5.25312379e-01\n",
      "  7.18132466e-01 -1.92321863e+00 -8.96966089e-01 -4.78464857e-01\n",
      " -3.28895818e-01 -4.66479372e-01  2.66995228e+00  4.39128731e-01\n",
      " -3.43022897e-01  1.05351887e+00 -9.30970757e-01  2.27489685e-01\n",
      " -3.37385613e-01  5.06676656e-01  6.13643030e-01  2.38193232e-01\n",
      " -4.00310533e-01  1.58364567e+00 -3.29429034e-01 -6.65572782e-01\n",
      " -1.31241601e+00 -1.03201969e-01  4.11712538e-01 -8.09573705e-01\n",
      " -6.11833321e-01 -8.85072643e-02  8.52779087e-01  3.43851220e-01\n",
      " -1.19164321e+00 -3.34037007e-01 -8.27103413e-01 -2.10912711e-02\n",
      "  2.42758193e-01 -3.52337427e-01 -1.44893369e-01  1.90847349e+00\n",
      "  9.10755655e-01 -1.64766818e+00 -2.67625148e-03  4.47919005e-01\n",
      " -7.84508975e-01 -1.46738427e+00 -5.22613422e-01  1.03463232e+00\n",
      "  1.40703390e+00 -3.72161231e-01  7.83671328e-01  2.32816683e-01\n",
      " -1.01848154e+00 -9.30240403e-01  1.01031303e+00 -7.77550845e-01\n",
      "  2.33778542e+00 -2.35240837e+00 -8.36160464e-01  1.34905953e+00\n",
      " -3.79825612e-01  1.48984802e-01 -8.04472370e-01 -1.96295946e+00\n",
      " -1.82680266e+00 -1.49047252e+00  4.66243969e-01 -6.23511446e-01\n",
      "  1.56142622e+00  8.46598348e-02  1.33518243e+00 -1.37023411e+00\n",
      " -2.66416322e+00  8.67817278e-01  1.02978997e+00 -9.78099091e-02\n",
      "  1.71696582e+00  1.28458681e+00  5.90326684e-01  9.99242863e-01\n",
      " -7.69488304e-01 -8.93693081e-01  7.42561009e-01  9.34878734e-01\n",
      " -1.79558579e+00 -1.70584421e+00  4.15919025e-01  3.51678902e-01\n",
      "  1.40433844e+00 -1.66805788e+00  1.06447952e+00  1.35303684e+00\n",
      " -4.23216180e-01  9.98856374e-01 -1.67367171e+00  2.02339170e-01\n",
      "  7.52300247e-01  1.72294415e+00  1.18363501e+00  1.34653993e+00\n",
      "  1.14517125e+00  1.51293068e+00 -1.97152666e-01 -1.80047805e-01\n",
      "  1.13354540e-01  9.55362178e-01  9.08243612e-02  1.14263628e+00\n",
      "  3.71866662e-01  1.83591573e-02  9.99560635e-02  3.59602463e-02\n",
      " -4.14284981e-01 -9.04853047e-01 -1.54897508e-01 -6.72462839e-01\n",
      "  8.33658328e-02  2.18589851e-01 -1.00118763e+00  1.27609487e+00\n",
      "  2.24981518e+00  5.00440328e-01  9.22938102e-01 -1.51109112e-01\n",
      "  1.55095935e-01 -3.01462069e-01 -1.90901061e+00 -8.67451258e-02\n",
      "  5.73846928e-01  1.46349825e-01 -3.31800933e-01 -1.81913636e-01\n",
      " -4.74842056e-02  6.53603170e-01 -1.03694918e+00 -3.60091073e+00\n",
      "  5.63539383e-01  1.01362939e+00 -9.98280437e-01 -2.51551971e+00\n",
      " -1.96367707e+00  5.52701932e-01  1.78114848e+00  1.70169335e+00\n",
      "  9.57434114e-01 -8.96651505e-01  8.53606090e-01 -9.96480216e-01\n",
      "  1.72570752e-01 -6.14958347e-01  1.67210478e+00 -1.45847383e+00\n",
      "  4.40864166e-02  4.94686446e-01 -9.10434260e-02  1.41441287e+00\n",
      " -5.20361281e-01 -7.33335226e-01 -5.66917506e-02  7.76995097e-02\n",
      "  5.59222974e-02  1.33428308e-01 -2.70899999e+00  4.50988628e-03\n",
      " -5.88208462e-01 -9.37182563e-01 -2.08480148e+00 -1.77175497e-01\n",
      "  2.23731239e+00 -2.40311965e-01 -1.01832444e+00  1.28442100e+00\n",
      " -8.03020408e-01  2.13077909e-01  2.91131362e-01 -1.35755411e+00\n",
      " -6.95729750e-01 -2.07591640e-01  1.72074516e+00  4.22086633e-01\n",
      "  2.54357819e+00 -2.79125588e-01 -8.71042444e-01 -6.87184039e-01\n",
      " -7.27592052e-02 -4.56876206e-01  1.06364787e+00  1.33589401e+00\n",
      "  1.35736172e+00  7.16249170e-01  1.10119671e+00  2.68166666e+00\n",
      " -1.44417483e+00 -1.08918692e-01 -7.44697765e-01 -9.26193905e-01\n",
      " -7.37865082e-01  1.76036848e+00  2.18705242e-01  9.79015111e-02\n",
      "  2.40823819e+00  7.09903879e-01 -6.74183354e-02  1.96326971e+00\n",
      "  3.56978431e-01  3.55633936e-01  3.35188473e-01 -1.09197946e+00\n",
      " -3.97690377e-01 -1.93639000e+00 -1.37207220e+00 -3.19887242e-01\n",
      "  7.23594479e-02 -1.02592044e+00  5.41571746e-01  2.03114270e-02\n",
      " -1.11625837e+00 -4.72719633e-02 -1.45361087e+00  5.42713458e-01\n",
      " -9.65146266e-01  1.02443577e+00  2.96241159e-02  1.69350890e+00\n",
      " -7.80983891e-01  1.49372345e-01  5.38776525e-01  1.87080480e+00\n",
      "  1.14272760e-01  1.47745645e+00 -2.70481107e-01 -5.81537451e-01\n",
      " -2.62631041e-01 -3.29703516e-01  3.18935867e-01  3.39113511e-02\n",
      "  1.82849151e+00 -3.07709691e-01  1.52370582e+00 -1.01585457e+00\n",
      " -1.63160291e+00  4.49916169e-02  8.69996967e-02  1.95446237e+00\n",
      " -5.22805078e-01 -3.78639180e-01 -1.10960260e+00  9.41674898e-01\n",
      "  1.78621904e+00 -8.04195205e-01 -1.48459030e+00  4.74920930e-01\n",
      " -6.98052323e-01 -1.33669108e+00 -6.16554715e-01  8.08729497e-01\n",
      " -5.26958139e-01 -1.72190754e+00  9.04058150e-01 -1.22533826e+00\n",
      "  1.48975677e+00 -6.40279815e-02  4.09062246e-01 -7.03630204e-01\n",
      " -1.49754198e-01 -3.56480240e-01  5.44526724e-01 -9.08953549e-01\n",
      " -9.55265247e-01 -1.91012810e+00 -1.42083148e-01  1.36731965e-01\n",
      " -2.22102988e-01  1.16793956e+00 -2.94093896e-01  2.54243427e-01\n",
      " -1.70614757e+00 -2.05928464e+00  4.24369621e-02  9.71544367e-01\n",
      " -5.89534878e-01 -5.07637762e-02 -3.50007946e-01  6.64207967e-01\n",
      "  1.52486175e+00 -9.50807488e-01  1.09798049e+00  1.58972765e+00\n",
      " -7.70860089e-01  2.27224469e+00  3.83358022e-01 -5.13918586e-01\n",
      "  3.62214284e-01  5.03138388e-01 -5.04416879e-01  2.78199277e-01\n",
      " -1.21780522e+00 -1.19245393e+00  2.28292788e-01  8.91398843e-03\n",
      "  2.74524523e-01 -1.52514025e+00  5.53861548e-02  7.96557933e-01\n",
      "  8.82526136e-02  1.63742405e+00  1.33572395e+00 -1.13516582e+00\n",
      "  1.57680012e+00  9.08220786e-01  6.59454417e-01  1.07601397e+00\n",
      "  1.29285848e+00 -1.73160953e-01 -2.89320880e-01  1.96237111e+00\n",
      "  1.35168881e+00 -1.97926290e-01  5.06524948e-01 -4.68493333e-01\n",
      "  4.33322099e-01  5.10860878e-01  3.85194756e-01 -1.23921013e+00\n",
      "  5.38648303e-01  1.74478873e+00  2.33289906e+00  1.37158002e+00\n",
      " -1.27212821e-01 -6.33219500e-01 -2.82903204e-01 -8.31889179e-02\n",
      "  7.16650853e-01  1.55957196e-02 -1.12658865e+00 -1.06370699e+00\n",
      " -4.97603506e-02  1.50312953e+00 -5.02355463e-01  7.81485458e-01\n",
      " -1.21693866e+00 -1.03995727e+00  1.18460440e+00  1.43521821e+00\n",
      " -5.81480942e-01  6.99316133e-01  7.17576406e-01  1.13219012e+00\n",
      "  1.38452893e+00  1.30431693e+00 -3.59567798e-01 -8.32243699e-01\n",
      "  4.72286153e-01 -3.22287095e+00 -6.17875804e-01  1.54247355e+00\n",
      " -5.67026270e-01  7.99192519e-01 -1.94501376e+00 -1.50978466e+00\n",
      " -1.69502458e+00 -3.16670214e-01  1.28983104e-01 -2.42238926e-01\n",
      "  1.14901843e+00 -1.61048721e+00 -3.39235655e-01  2.17050010e-01\n",
      "  7.36526572e-01  2.74792610e-01 -5.35363394e-01  1.81850367e-01\n",
      " -7.76605085e-01 -8.81576155e-01  1.33951038e+00  6.03531359e-01\n",
      "  1.07254625e+00 -1.36214759e+00 -5.95689222e-01  2.50287932e+00\n",
      " -1.11556720e-01  2.15902426e+00 -1.22233189e-01  4.62329749e-01\n",
      " -4.72749292e-01 -2.51236315e-01 -1.02197329e+00  2.43719475e-01\n",
      "  1.25052842e+00  2.55764941e+00 -3.52292435e-01  9.11483099e-01\n",
      " -3.24970282e-01  4.15171599e-01 -1.19115621e+00 -6.37228891e-01]\n"
     ]
    }
   ],
   "source": [
    "print(\"Fith Array:\",Array_5)"
   ]
  },
  {
   "cell_type": "code",
   "execution_count": 8,
   "metadata": {},
   "outputs": [
    {
     "data": {
      "image/png": "[encoded data removed]",
      "text/plain": [
       "<Figure size 432x288 with 1 Axes>"
      ]
     },
     "metadata": {
      "needs_background": "light"
     },
     "output_type": "display_data"
    }
   ],
   "source": [
    "# Show some histograms of data for some of arrays\n",
    "Hist_Array_5 = np.random.randn(1000)\n",
    "plt.hist(Hist_Array_5, bins=20)\n",
    "plt.show()"
   ]
  },
  {
   "cell_type": "code",
   "execution_count": 9,
   "metadata": {},
   "outputs": [
    {
     "name": "stdout",
     "output_type": "stream",
     "text": [
      "                 0\n",
      "count  1000.000000\n",
      "mean      0.023573\n",
      "std       1.010120\n",
      "min      -4.132249\n",
      "25%      -0.666465\n",
      "50%       0.036950\n",
      "75%       0.751271\n",
      "max       4.021375\n"
     ]
    }
   ],
   "source": [
    "# Build a data frame and some some stats through describe function\n",
    "\n",
    "df_3 = pd.DataFrame(Hist_Array_5)\n",
    "print(df_3.describe())"
   ]
  },
  {
   "cell_type": "markdown",
   "metadata": {},
   "source": [
    "# numpy.random.randint function"
   ]
  },
  {
   "cell_type": "code",
   "execution_count": 10,
   "metadata": {},
   "outputs": [
    {
     "name": "stdout",
     "output_type": "stream",
     "text": [
      "Sixth Array: 257\n",
      "Seventh Array: 346\n",
      "Eight Array: 176\n",
      "Ningth Array: 1\n"
     ]
    }
   ],
   "source": [
    "Array_6 = np.random.randint(1000)\n",
    "print(\"Sixth Array:\",Array_6)\n",
    "Array_7 = np.random.randint(1000)\n",
    "print(\"Seventh Array:\",Array_7)\n",
    "Array_8 = np.random.randint(100, high=200)\n",
    "print(\"Eight Array:\",Array_8)\n",
    "Array_9 = np.random.randint(1, high=5)\n",
    "print(\"Ningth Array:\",Array_9)"
   ]
  },
  {
   "cell_type": "markdown",
   "metadata": {},
   "source": [
    "# numpy.random.random_sample function"
   ]
  },
  {
   "cell_type": "code",
   "execution_count": 11,
   "metadata": {},
   "outputs": [
    {
     "name": "stdout",
     "output_type": "stream",
     "text": [
      "Tenth Array: [0.45367299 0.99658483 0.72135631 0.13155224 0.74763538 0.74092184\n",
      " 0.42874388 0.5362667  0.88280242 0.29383581 0.6972082  0.5335389\n",
      " 0.83524783 0.18310014 0.04891018 0.1428208  0.72065464 0.3955667\n",
      " 0.24432022 0.05456861 0.48167653 0.85866061 0.15827543 0.98713114\n",
      " 0.97633621 0.47186449 0.55030823 0.84763417 0.77979027 0.70054766\n",
      " 0.47347376 0.26047511 0.20254959 0.20742873 0.99036297 0.72062842\n",
      " 0.28915631 0.89923692 0.79669719 0.31735803 0.81314481 0.3711527\n",
      " 0.23403311 0.2860963  0.71517759 0.94842411 0.51161829 0.75535494\n",
      " 0.43172488 0.59990292]\n",
      "Array 11: [[0.29109171 0.35081158]\n",
      " [0.23793606 0.4344119 ]\n",
      " [0.17875144 0.88872881]\n",
      " [0.38219028 0.48009236]\n",
      " [0.12048137 0.21794374]\n",
      " [0.90482336 0.55919519]\n",
      " [0.22419341 0.92361488]\n",
      " [0.56523138 0.35468333]\n",
      " [0.50403993 0.04121295]\n",
      " [0.3370837  0.48035354]\n",
      " [0.63244381 0.93052283]\n",
      " [0.59722298 0.51108734]\n",
      " [0.90349491 0.99951192]\n",
      " [0.80092929 0.38782627]\n",
      " [0.87416826 0.49562971]]\n"
     ]
    }
   ],
   "source": [
    "Array_10 = np.random.random_sample((50,))\n",
    "print(\"Tenth Array:\",Array_10)\n",
    "Array_11 = np.random.random_sample((15,2))\n",
    "print(\"Array 11:\",Array_11)"
   ]
  },
  {
   "cell_type": "markdown",
   "metadata": {},
   "source": [
    "# numpy.random.choice function"
   ]
  },
  {
   "cell_type": "code",
   "execution_count": 12,
   "metadata": {},
   "outputs": [
    {
     "name": "stdout",
     "output_type": "stream",
     "text": [
      "Array 12: Grace\n",
      "Array 13: Hannah\n",
      "Array 14: ['Adam' 'Trina' 'Grace']\n"
     ]
    }
   ],
   "source": [
    "Names = ['Hannah', 'Grace','Adam', 'Trina','Ross']\n",
    "\n",
    "Array_12 = np.random.choice(Names)\n",
    "print(\"Array 12:\",Array_12)\n",
    "Array_13 = np.random.choice(Names)\n",
    "print(\"Array 13:\",Array_13)\n",
    "Array_14 = np.random.choice(Names, size=3)\n",
    "print(\"Array 14:\",Array_14)"
   ]
  },
  {
   "cell_type": "markdown",
   "metadata": {},
   "source": [
    "# Permutations"
   ]
  },
  {
   "cell_type": "markdown",
   "metadata": {},
   "source": [
    "# numpy.random.shuffle function"
   ]
  },
  {
   "cell_type": "code",
   "execution_count": 13,
   "metadata": {},
   "outputs": [
    {
     "name": "stdout",
     "output_type": "stream",
     "text": [
      "Shuffle 1: [79  6 11 67 76 50  2 28  1 53  3 78 10 27 57 47 44 64 75 58 86 40 23  9\n",
      " 59 22 51 29 61 26 30 83 55 65 31 81 77 41 89 95 93 98 16 56 87 20 39 62\n",
      " 82 60 96 70 49 37 99 24  4 25 43 72 63 80 36 48 46  8 92 94 33 18 45  7\n",
      " 35 97 13  5 74 15 88 52 12 71 66 21 54 38 90 68 17 42 34  0 91 84 85 19\n",
      " 14 69 32 73]\n",
      "Shuffle 2: [ 4 72 57 21 50 62 78 97 75 70 24  8 45 87 32 27 91 95  5 74  6 16 73 88\n",
      " 49 81 77 68 36 26 89 69 15 92 61 23 90 37  3 94 66 22 42 83 14  1 84 51\n",
      " 65 10 39 30 53 99 64 28 17 76 19 82 38 33 43  2 20 63 25 86 98 54 52 56\n",
      " 46  0 47 58 13 60 80 93 48 44 31 71 40 96 79 11  7 85 12 41 67 55 34 35\n",
      " 18 29  9 59]\n"
     ]
    }
   ],
   "source": [
    "arr_1 = np.arange(100)\n",
    "np.random.shuffle(arr_1)\n",
    "print('Shuffle 1:',arr_1)\n",
    "\n",
    "arr_2 = np.arange(100)\n",
    "np.random.shuffle(arr_2)\n",
    "print('Shuffle 2:',arr_2)"
   ]
  },
  {
   "cell_type": "markdown",
   "metadata": {},
   "source": [
    " # numpy.random.permutation function"
   ]
  },
  {
   "cell_type": "code",
   "execution_count": 14,
   "metadata": {},
   "outputs": [
    {
     "name": "stdout",
     "output_type": "stream",
     "text": [
      "Permutation 1: ['Grace' 'Trina' 'Ross' 'Hannah' 'Adam']\n",
      "Permutation 2: ['Ross' 'Grace' 'Hannah' 'Trina' 'Adam']\n"
     ]
    }
   ],
   "source": [
    "Names = ['Ross', 'Hannah', 'Grace','Adam','Trina']\n",
    "\n",
    "Names_1 = np.random.permutation(Names)\n",
    "print('Permutation 1:',Names_1)\n",
    "Names_2 = np.random.permutation(Names)\n",
    "print('Permutation 2:',Names_2)"
   ]
  },
  {
   "cell_type": "markdown",
   "metadata": {},
   "source": [
    "# Distributions"
   ]
  },
  {
   "cell_type": "code",
   "execution_count": 20,
   "metadata": {},
   "outputs": [
    {
     "data": {
      "image/png": "[encoded data removed]",
      "text/plain": [
       "<Figure size 432x288 with 1 Axes>"
      ]
     },
     "metadata": {
      "needs_background": "light"
     },
     "output_type": "display_data"
    },
    {
     "data": {
      "image/png": "[encoded data removed]",
      "text/plain": [
       "<Figure size 432x288 with 1 Axes>"
      ]
     },
     "metadata": {
      "needs_background": "light"
     },
     "output_type": "display_data"
    },
    {
     "data": {
      "image/png": "[encoded data removed]",
      "text/plain": [
       "<Figure size 432x288 with 1 Axes>"
      ]
     },
     "metadata": {
      "needs_background": "light"
     },
     "output_type": "display_data"
    },
    {
     "data": {
      "image/png": "[encoded data removed]",
      "text/plain": [
       "<Figure size 432x288 with 1 Axes>"
      ]
     },
     "metadata": {
      "needs_background": "light"
     },
     "output_type": "display_data"
    },
    {
     "data": {
      "image/png": "[encoded data removed]",
      "text/plain": [
       "<Figure size 432x288 with 1 Axes>"
      ]
     },
     "metadata": {
      "needs_background": "light"
     },
     "output_type": "display_data"
    }
   ],
   "source": [
    "# Normal Distribution\n",
    "\n",
    "mu, sigma = 0, 0.1 \n",
    "\n",
    "s = np.random.normal(mu, sigma, 1000)\n",
    "\n",
    "count, bins, ignored = plt.hist(s, 50, normed=True)\n",
    "plt.plot(bins, 1/(sigma * np.sqrt(2 * np.pi)) *\n",
    "np.exp( - (bins - mu)**2 / (2 * sigma**2) ),\n",
    "linewidth=2, color='g')\n",
    "plt.title('Normal Distribution')\n",
    "plt.show()\n",
    "\n",
    "# Rayleigh Distribution\n",
    "\n",
    "ray = np.random.rayleigh(3, 100000)\n",
    "plt.hist(ray,bins = 50)\n",
    "plt.title('Rayleigh Distribution')\n",
    "plt.show()\n",
    "\n",
    "# Triangular Distribution\n",
    "\n",
    "Tri = np.random.triangular(-3, 0, 8, 100000)\n",
    "plt.hist(Tri,bins = 50,normed=True)\n",
    "plt.title('Triangular Distribution')\n",
    "plt.show()\n",
    "\n",
    "# Poisson Distribution\n",
    "\n",
    "Poi = np.random.poisson(5, 10000)\n",
    "plt.hist(Poi,bins = 50,normed=True)\n",
    "plt.title('Poisson Distribution')\n",
    "plt.show()\n",
    "\n",
    "# Gamma Distribution\n",
    "\n",
    "shape, scale = 2., 2.  # mean=4, std=2*sqrt(2)\n",
    "s = np.random.gamma(shape, scale, 1000)\n",
    "\n",
    "count, bins, ignored = plt.hist(s, 50, normed=True)\n",
    "y = bins**(shape-1)*(np.exp(-bins/scale) /\n",
    "(sps.gamma(shape)*scale**shape))\n",
    "plt.plot(bins, y, linewidth=2, color='g')\n",
    "plt.title('Gamma Distribution')\n",
    "plt.show()\n"
   ]
  },
  {
   "cell_type": "markdown",
   "metadata": {},
   "source": [
    "# Seeds"
   ]
  },
  {
   "cell_type": "code",
   "execution_count": 16,
   "metadata": {},
   "outputs": [
    {
     "name": "stdout",
     "output_type": "stream",
     "text": [
      "Seed 1: [0.4359949  0.02592623 0.54966248 0.43532239 0.4203678  0.33033482\n",
      " 0.20464863 0.61927097 0.29965467 0.26682728]\n"
     ]
    }
   ],
   "source": [
    "np.random.seed (2)\n",
    "\n",
    "Seed_1 = np.random.rand(10)\n",
    "print('Seed 1:',Seed_1)"
   ]
  },
  {
   "cell_type": "code",
   "execution_count": 17,
   "metadata": {},
   "outputs": [
    {
     "name": "stdout",
     "output_type": "stream",
     "text": [
      "Seed 2: [0.4359949  0.02592623 0.54966248 0.43532239 0.4203678  0.33033482\n",
      " 0.20464863 0.61927097 0.29965467 0.26682728]\n"
     ]
    }
   ],
   "source": [
    "np.random.seed (2)\n",
    "\n",
    "Seed_2 = np.random.rand(10)\n",
    "print('Seed 2:',Seed_2)"
   ]
  },
  {
   "cell_type": "code",
   "execution_count": 18,
   "metadata": {},
   "outputs": [
    {
     "name": "stdout",
     "output_type": "stream",
     "text": [
      "Seed 3: [0.5507979  0.70814782 0.29090474 0.51082761 0.89294695 0.89629309\n",
      " 0.12558531 0.20724288 0.0514672  0.44080984]\n"
     ]
    }
   ],
   "source": [
    "np.random.seed (3)\n",
    "\n",
    "Seed_3 = np.random.rand(10)\n",
    "print('Seed 3:',Seed_3)"
   ]
  },
  {
   "cell_type": "code",
   "execution_count": 19,
   "metadata": {},
   "outputs": [
    {
     "name": "stdout",
     "output_type": "stream",
     "text": [
      "Seed 4: [0.5507979  0.70814782 0.29090474 0.51082761 0.89294695 0.89629309\n",
      " 0.12558531 0.20724288 0.0514672  0.44080984]\n"
     ]
    }
   ],
   "source": [
    "np.random.seed (3)\n",
    "\n",
    "Seed_4 = np.random.rand(10)\n",
    "print('Seed 4:',Seed_4)"
   ]
  },
  {
   "cell_type": "markdown",
   "metadata": {},
   "source": [
    "# References"
   ]
  },
  {
   "cell_type": "markdown",
   "metadata": {},
   "source": [
    "1. https://docs.scipy.org/doc/numpy-1.14.0/reference/routines.random.html\n",
    "2. https://www.datacamp.com/community/tutorials/probability-distributions-python\n",
    "3. https://realpython.com/python-random/\n",
    "4. https://en.wikipedia.org/wiki/Mersenne_Twister"
   ]
  },
  {
   "cell_type": "code",
   "execution_count": null,
   "metadata": {},
   "outputs": [],
   "source": []
  }
 ],
 "metadata": {
  "kernelspec": {
   "display_name": "Python 3",
   "language": "python",
   "name": "python3"
  },
  "language_info": {
   "codemirror_mode": {
    "name": "ipython",
    "version": 3
   },
   "file_extension": ".py",
   "mimetype": "text/x-python",
   "name": "python",
   "nbconvert_exporter": "python",
   "pygments_lexer": "ipython3",
   "version": "3.7.1"
  }
 },
 "nbformat": 4,
 "nbformat_minor": 2
}
