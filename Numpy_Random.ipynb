{
 "cells": [
  {
   "cell_type": "markdown",
   "metadata": {},
   "source": [
    "# Numpy Random Assignment 2019"
   ]
  },
  {
   "cell_type": "markdown",
   "metadata": {},
   "source": [
    "The following assignment concerns the numpy.random package in Python. A Jupyter notebook was created explaining the use of the package, including detailed explanations of at least five of the distributions provided for in the package.\n",
    "\n",
    "There are four distinct tasks carried out in this Jupyter notebook:\n",
    "\n",
    "1. Explain the overall purpose of the package.\n",
    "2. Explain the use of the “Simple random data” and “Permutations” functions.\n",
    "3. Explain the use and purpose of at least five “Distributions” functions.\n",
    "4. Explain the use of seeds in generating pseudorandom numbers."
   ]
  },
  {
   "cell_type": "code",
   "execution_count": 1,
   "metadata": {},
   "outputs": [],
   "source": [
    "import numpy as np\n",
    "import matplotlib.pyplot as plt\n",
    "import pandas as pd\n",
    "import scipy.special as sps\n",
    "%matplotlib inline"
   ]
  },
  {
   "cell_type": "markdown",
   "metadata": {},
   "source": [
    "# Use of Numpy.Random Package\n",
    "\n",
    "Most random data generated with Python is not fully random in the scientific sense of the word. Rather, it is pseudorandom: generated with a pseudorandom number generator (PRNG), which is essentially any algorithm for generating seemingly random but still reproducible data.\n",
    "Probably the most widely known tool for generating random data in Python is its numpy.random module, which uses the Mersenne Twister PRNG algorithm as its core generator.The Mersenne Twister is a pseudorandom number generator (PRNG). It is by far the most widely used general-purpose PRNG. Its name derives from the fact that its period length is chosen to be a Mersenne prime."
   ]
  },
  {
   "cell_type": "markdown",
   "metadata": {},
   "source": [
    "# Simple Random Data\n",
    "\n",
    "This section will use serveral functions that will be used to generated random data. See examples below."
   ]
  },
  {
   "cell_type": "markdown",
   "metadata": {},
   "source": [
    "# numpy.random.rand function\n",
    "\n",
    "This function returns Random values in a given shape. It creates an array of the given shape and populates it with random samples from a uniform distribution over [0,1]. The dimensions of the returned array, should all be positive. If no argument is given a single Python float is returned."
   ]
  },
  {
   "cell_type": "code",
   "execution_count": 2,
   "metadata": {},
   "outputs": [],
   "source": [
    "# give variable name\n",
    "\n",
    "Array_1 = np.random.rand(10)\n",
    "Array_2 = np.random.rand(10)\n",
    "Array_3 = np.random.rand(2,10)\n",
    "Array_4 = np.random.rand(2,10)"
   ]
  },
  {
   "cell_type": "code",
   "execution_count": 3,
   "metadata": {},
   "outputs": [
    {
     "name": "stdout",
     "output_type": "stream",
     "text": [
      "First Array: [0.49625431 0.87798196 0.66724285 0.70801717 0.85719762 0.23672194\n",
      " 0.22736747 0.56944484 0.7899023  0.88893898]\n",
      "Second Array: [0.89170237 0.43371281 0.83258234 0.46642925 0.72967417 0.27866282\n",
      " 0.23595241 0.53081229 0.6693622  0.71059333]\n",
      "Third Array: [[0.96448314 0.15616548 0.81305745 0.75513167 0.80949802 0.26094184\n",
      "  0.11016317 0.56912176 0.4702447  0.94434885]\n",
      " [0.37513133 0.62068028 0.71316959 0.57413166 0.71618263 0.29018413\n",
      "  0.10558384 0.35922999 0.73776717 0.67352551]]\n",
      "Fourth Array: [[0.35228846 0.25204387 0.21177732 0.57965062 0.17257733 0.7497337\n",
      "  0.2446507  0.08175073 0.73711078 0.2291113 ]\n",
      " [0.65998362 0.81942786 0.63630873 0.09147867 0.92792627 0.39174884\n",
      "  0.49943308 0.02126916 0.02289934 0.48663487]]\n"
     ]
    }
   ],
   "source": [
    "# use of print function to see output\n",
    "\n",
    "print(\"First Array:\",Array_1)\n",
    "print(\"Second Array:\",Array_2)\n",
    "print(\"Third Array:\",Array_3)\n",
    "print(\"Fourth Array:\",Array_4)"
   ]
  },
  {
   "cell_type": "markdown",
   "metadata": {},
   "source": [
    "You will see from above array outputs the sequence in a random fashion."
   ]
  },
  {
   "cell_type": "code",
   "execution_count": 4,
   "metadata": {},
   "outputs": [
    {
     "data": {
      "image/png": "[encoded data removed]",
      "text/plain": [
       "<Figure size 432x288 with 1 Axes>"
      ]
     },
     "metadata": {
      "needs_background": "light"
     },
     "output_type": "display_data"
    },
    {
     "data": {
      "image/png": "[encoded data removed]",
      "text/plain": [
       "<Figure size 432x288 with 1 Axes>"
      ]
     },
     "metadata": {
      "needs_background": "light"
     },
     "output_type": "display_data"
    },
    {
     "data": {
      "image/png": "[encoded data removed]",
      "text/plain": [
       "<Figure size 432x288 with 1 Axes>"
      ]
     },
     "metadata": {
      "needs_background": "light"
     },
     "output_type": "display_data"
    },
    {
     "data": {
      "image/png": "[encoded data removed]",
      "text/plain": [
       "<Figure size 432x288 with 1 Axes>"
      ]
     },
     "metadata": {
      "needs_background": "light"
     },
     "output_type": "display_data"
    }
   ],
   "source": [
    "# Show some histograms of data for some of arrays\n",
    "\n",
    "Hist_Array_1 = np.random.rand(1000)\n",
    "plt.hist(Hist_Array_1, bins=20)\n",
    "plt.show()\n",
    "Hist_Array_2 = np.random.rand(1000)\n",
    "plt.hist(Hist_Array_2, bins=20)\n",
    "plt.show()\n",
    "\n",
    "# change in bin number to show differences\n",
    "\n",
    "Hist_Array_1 = np.random.rand(1000)\n",
    "plt.hist(Hist_Array_1, bins=100)\n",
    "plt.show()\n",
    "Hist_Array_2 = np.random.rand(1000)\n",
    "plt.hist(Hist_Array_2, bins=100)\n",
    "plt.show()"
   ]
  },
  {
   "cell_type": "markdown",
   "metadata": {},
   "source": [
    "Use of histogarms shows slight diffrences that can be more visual when increasing bin numbers."
   ]
  },
  {
   "cell_type": "code",
   "execution_count": 5,
   "metadata": {},
   "outputs": [
    {
     "name": "stdout",
     "output_type": "stream",
     "text": [
      "                 0\n",
      "count  1000.000000\n",
      "mean      0.518065\n",
      "std       0.292494\n",
      "min       0.001356\n",
      "25%       0.254191\n",
      "50%       0.523810\n",
      "75%       0.787735\n",
      "max       0.999006\n",
      "                 0\n",
      "count  1000.000000\n",
      "mean      0.485096\n",
      "std       0.288108\n",
      "min       0.000243\n",
      "25%       0.245753\n",
      "50%       0.473882\n",
      "75%       0.733396\n",
      "max       0.997973\n"
     ]
    }
   ],
   "source": [
    "# Build a data frame and some some stats through describe function\n",
    "\n",
    "df_1 = pd.DataFrame(Hist_Array_1)\n",
    "print(df_1.describe())\n",
    "df_2 = pd.DataFrame(Hist_Array_2)\n",
    "print(df_2.describe())"
   ]
  },
  {
   "cell_type": "markdown",
   "metadata": {},
   "source": [
    "Along with histograms the use of data frame to see some statistics also show slight differences between the 2 arrays."
   ]
  },
  {
   "cell_type": "markdown",
   "metadata": {},
   "source": [
    "# numpy.random.randn function\n",
    "\n",
    "If positive arguments are provided, randn generates an array of shape (d0, d1, …, dn), filled with random floats sampled from a univariate “normal” (Gaussian) distribution of mean 0 and variance 1 (if any of the d_i are floats, they are first converted to integers by truncation)."
   ]
  },
  {
   "cell_type": "code",
   "execution_count": 6,
   "metadata": {},
   "outputs": [],
   "source": [
    "Array_5 = np.random.randn(1000)"
   ]
  },
  {
   "cell_type": "code",
   "execution_count": 7,
   "metadata": {},
   "outputs": [
    {
     "name": "stdout",
     "output_type": "stream",
     "text": [
      "Fith Array: [ 1.20225294e+00  2.47474387e-01  1.27766500e-01  2.25830107e+00\n",
      " -2.97036980e-01  2.53117568e-01 -1.65398921e+00 -7.81960849e-01\n",
      " -2.13521059e-01 -2.24832843e-01 -1.59962857e-01  9.36276415e-01\n",
      "  1.40820036e-01 -3.86568753e-01  8.39786940e-01 -8.15114323e-02\n",
      " -3.33229610e-01 -8.06581840e-01 -1.36890457e+00 -1.43008865e-01\n",
      " -1.19753548e+00  7.06441716e-01  2.83186248e-01 -5.27755759e-01\n",
      " -1.41891654e+00 -9.25506420e-01 -5.62352330e-01  5.09545788e-01\n",
      " -6.35648461e-01  4.13377442e-01 -4.13863047e-01 -5.25065172e-02\n",
      " -1.08715725e+00  9.88665345e-01  1.66203875e+00  6.02230846e-01\n",
      "  1.96482565e-01  1.20021940e+00 -1.29478184e+00 -1.82510173e+00\n",
      "  3.94558616e-01  1.04237045e+00 -1.25152694e+00  4.46132966e-02\n",
      " -6.68257575e-01 -1.65497236e+00  5.65482235e-01 -3.93143262e-01\n",
      "  1.91708420e+00 -6.18434479e-01  2.28278303e+00 -1.90554719e-01\n",
      " -9.44071359e-01  1.68429812e-01 -1.38605587e-01 -1.71512484e+00\n",
      "  4.29311285e-01 -1.79813124e+00  2.98215277e-01 -4.39744760e-01\n",
      " -9.93754765e-01 -7.62216735e-01  3.74715581e-01 -1.39348840e+00\n",
      "  6.22354427e-02 -3.66897445e-01 -2.29947116e-01  2.59936278e-01\n",
      " -1.34264443e+00 -1.38110510e+00 -7.55946676e-01 -3.92632647e-02\n",
      " -7.30118066e-01 -5.55702573e-01  3.47624219e-01  1.96267921e+00\n",
      "  1.52857590e-01  1.00345522e+00  2.09684198e+00 -3.49411566e-01\n",
      "  4.78093455e-01  2.46564322e-01  5.04743262e-01  8.74370072e-01\n",
      "  6.17343537e-01 -8.15035502e-01  4.36954653e-01  6.37604533e-01\n",
      " -1.18446955e+00 -1.64512088e+00  6.68629467e-01  8.40445376e-01\n",
      " -7.54092743e-01  2.41849595e-01  2.25574611e-01 -2.12396092e-01\n",
      "  5.44473683e-01 -2.81632841e-01 -2.34549799e-01 -5.06996912e-01\n",
      " -3.17994505e-01  7.85515596e-01 -2.87164951e-01  2.79862674e+00\n",
      "  1.56611924e+00  2.32852476e-01 -8.79178785e-01  4.04799502e-01\n",
      " -4.88228258e-01 -2.01645698e-06  1.37070356e+00  1.70140593e+00\n",
      "  6.19606266e-01 -1.52692260e+00 -7.46928824e-01  5.06058872e-01\n",
      "  1.44215609e+00 -5.73295731e-01 -1.45296143e+00  6.33747687e-01\n",
      " -1.19057771e+00 -1.03608302e+00  5.06278699e-01 -1.29651356e+00\n",
      "  5.11791532e-01 -1.41409368e-01  6.60989301e-01 -2.89616470e-01\n",
      "  9.40462884e-01  1.70370497e+00 -9.34331355e-01  2.08721663e-01\n",
      "  2.12709738e-01  3.39716553e-01  4.34949497e-01  1.41598644e-01\n",
      " -2.61317988e-01 -9.18785318e-01  1.99055809e+00 -4.55965556e-01\n",
      " -8.27303673e-01  4.69760609e-01 -1.27652404e-01  2.26398702e-01\n",
      " -1.93347997e+00  5.86978919e-01  1.33814554e+00  1.60065754e+00\n",
      " -1.05127616e+00  1.81563622e+00  6.24868266e-01  3.71448160e-01\n",
      " -1.27007077e+00  1.04128563e+00 -7.36830499e-01 -6.52917611e-01\n",
      " -1.02166080e+00 -1.62897055e+00  3.14128771e-01  1.25719361e+00\n",
      "  7.32717193e-01  4.56289070e-01  1.24685634e-01 -7.37872114e-01\n",
      "  3.67631261e-01 -6.01554184e-02 -1.69179468e+00  9.98233048e-02\n",
      " -8.35173417e-01  4.03134408e-02  3.99452912e-01 -3.14228938e-01\n",
      "  1.72090676e-01  1.17270370e+00  9.46002684e-02  8.91581243e-01\n",
      " -1.96585339e-02  8.19625398e-01 -7.25690863e-01 -3.46534044e-01\n",
      " -2.63906374e-01  1.67517387e+00  5.08472984e-01 -8.54549967e-01\n",
      " -2.76555003e-01  1.19398931e+00 -7.36778529e-01 -9.09255772e-01\n",
      "  1.11454620e+00  8.88432428e-01  3.03485200e-01  7.65016747e-01\n",
      "  1.30288346e+00 -8.51838276e-01 -3.31786284e-01  1.02568463e+00\n",
      " -2.86740041e-01  6.71685739e-01 -1.35088649e+00 -1.43545866e+00\n",
      " -5.72537979e-01  6.90827352e-01  3.98508038e-01  1.10317776e+00\n",
      " -1.29876529e-01 -3.20075163e+00 -1.17726776e-01 -1.93896437e+00\n",
      "  1.70841096e+00 -9.87698555e-01 -7.45104738e-01 -7.14938288e-01\n",
      "  1.34067297e+00  1.39160703e+00 -3.78826607e-01  1.77270700e+00\n",
      "  6.26100159e-01  8.23210912e-01 -2.43039088e+00 -1.38592699e+00\n",
      " -1.33008810e+00  8.95239748e-01 -4.73839212e-01 -6.55627397e-01\n",
      " -1.90088883e-01  9.81935409e-01  1.42354974e+00  8.00941081e-01\n",
      " -1.21187643e-01 -1.21961753e+00  7.23883894e-01 -1.36736532e-01\n",
      "  2.06182866e-01  1.39741880e+00 -9.17928416e-02  1.08037853e+00\n",
      " -1.00438755e+00  7.09081555e-01  2.05472514e+00  3.79860965e-01\n",
      "  2.64511298e-01  8.98859300e-01  5.24414659e-01  2.17310799e+00\n",
      " -1.51631750e+00  5.81058001e-01  3.55867390e-01 -4.33894963e-01\n",
      " -4.18691378e-01 -1.77951558e+00 -1.13416277e+00  6.45606939e-01\n",
      "  2.37587122e-01 -5.90775782e-01  3.89100941e-01  2.15397702e-02\n",
      "  2.30316259e+00  9.39017544e-01  9.71277327e-01 -3.45051894e-01\n",
      "  1.15743560e+00 -7.18254945e-01 -6.04542897e-02 -3.35771390e-01\n",
      " -6.75802900e-01  1.12593159e+00 -7.87728929e-01  1.13001612e+00\n",
      " -3.22894265e-01  7.58462812e-01 -5.01253571e-01  6.41229755e-02\n",
      "  1.07385405e+00 -6.16866014e-01 -2.06641543e-01  1.86791381e-01\n",
      "  2.34546616e-01 -5.83661908e-01 -1.18133251e-01 -7.90741360e-01\n",
      " -6.39822709e-01  2.25528704e-01 -8.34376849e-01  7.27559108e-01\n",
      " -6.16919309e-01  8.89418312e-02 -5.23559325e-01  1.39741622e-01\n",
      " -5.10633348e-01  1.03794414e+00  3.79560242e-03  5.36999948e-01\n",
      " -3.56114426e-01 -1.21877199e+00 -6.07818211e-01 -5.72730415e-01\n",
      " -5.75629857e-02  1.60569695e+00  1.83819824e-02  5.23585255e-01\n",
      "  2.04632803e-02  7.35986746e-01 -1.67243663e+00  5.27848117e-01\n",
      "  2.76690812e-01 -9.98929047e-01  2.79656850e-01 -7.82104726e-01\n",
      "  5.62890868e-01 -1.17614242e-01  6.52813050e-01  7.71383280e-01\n",
      " -7.87920375e-01 -7.00542264e-01  3.91172998e-01 -5.25453837e-01\n",
      " -2.30474539e-01  7.15884054e-01 -1.46853005e+00  8.57667206e-01\n",
      " -1.83620615e-01 -3.21685993e-01 -8.17922810e-02 -8.36200301e-01\n",
      " -1.19513977e+00 -9.85548111e-01  1.22545223e+00 -1.02061049e+00\n",
      "  2.11755892e-01 -6.05092558e-01  1.22884394e+00 -1.51775396e+00\n",
      "  1.51474577e+00  1.88869538e+00 -3.94125701e-01 -1.35858183e-01\n",
      "  1.33361543e+00 -1.87865943e-02  2.12538648e-01 -4.26329994e-01\n",
      "  6.14748905e-01 -1.79365203e+00 -1.22920473e+00  4.47750965e-01\n",
      "  7.22193717e-01 -3.57110864e-01 -2.06742691e-02  8.12782663e-01\n",
      " -7.08221958e-01  7.50112309e-01  1.12222920e+00  3.04132936e-01\n",
      "  2.38718153e+00 -1.44471241e+00 -1.51265403e+00 -1.24246419e-01\n",
      "  7.99205284e-01 -1.24057082e-01  3.09481411e-01 -4.40979828e-01\n",
      " -2.35611098e+00 -5.81941126e-01 -2.02536228e+00  1.87155563e+00\n",
      "  1.79721679e-01 -1.41830171e+00 -2.34045232e-01 -4.31248921e-02\n",
      " -4.22248974e-01 -1.57839756e+00  2.25424300e+00 -8.02205527e-03\n",
      "  3.59063534e-02 -7.10074783e-01  9.52751778e-01  9.05403285e-01\n",
      " -1.31576849e+00  1.72680115e+00 -1.09759024e+00 -7.11202763e-01\n",
      " -1.19794872e-01 -6.64942935e-01 -8.96733391e-01  2.07366151e+00\n",
      "  2.82396502e-01  4.86746043e-01 -1.83973693e-01  2.58954055e-01\n",
      "  2.50347652e+00  4.99339283e-01 -1.28099070e-01  2.18383914e-01\n",
      " -2.48028004e-01  1.98241172e+00  1.08911340e-01 -1.30530317e+00\n",
      "  2.08486776e+00 -2.08507211e+00  3.36917208e-01 -5.21334842e-01\n",
      "  2.15418054e-01  1.22885952e-01  5.90041154e-01 -1.44127532e+00\n",
      "  1.15464128e+00  1.21945763e+00  9.08995353e-01 -2.21315476e+00\n",
      " -1.58101473e-01 -4.83760451e-01 -1.55689829e-01  6.67717743e-01\n",
      " -1.98578812e-01  1.36838008e+00 -4.46574443e-01 -7.80176199e-01\n",
      " -1.94318150e+00 -1.64952207e+00 -1.61932343e+00 -8.57461885e-01\n",
      "  6.15129389e-01 -5.76295525e-01  1.51927988e+00  6.19183018e-01\n",
      " -4.94089464e-01  7.45847271e-03 -4.03228395e-01  5.11793183e-01\n",
      " -6.76524917e-01  4.60131935e-01  1.00923371e+00 -1.34414431e-01\n",
      " -1.43981108e-01 -1.73251109e+00 -1.21556174e+00 -1.12070602e+00\n",
      "  3.14237237e+00 -4.77673740e-01 -1.07521116e+00 -2.30776411e+00\n",
      "  8.96026319e-01 -2.15532708e-01 -8.34664212e-01 -1.60899611e-01\n",
      "  2.63087985e+00  3.10795663e-01 -6.21236890e-01 -6.77544400e-01\n",
      "  8.26262247e-01  4.66266171e-01 -3.58173964e-01  1.80245541e+00\n",
      "  8.51117945e-01  1.31509893e+00 -6.62485369e-01  2.59226152e-01\n",
      "  2.25018021e-01  9.55208279e-01  1.67437179e-01  3.66131916e-01\n",
      "  3.82771280e-01  8.79625347e-01 -6.39354198e-01 -7.83836527e-01\n",
      " -7.51049624e-01 -7.90950093e-01 -1.95862223e-01  8.76858430e-01\n",
      " -1.14560413e+00  5.99247178e-01 -6.76492996e-01  1.09525393e-02\n",
      " -7.59624564e-01  2.90860192e-01  6.23796437e-01  9.91323159e-01\n",
      "  1.16824067e+00  2.07480629e+00  1.45889215e+00  8.61184448e-01\n",
      " -1.44380291e+00 -9.02138527e-02 -1.19390591e+00 -5.73878508e-01\n",
      "  2.28068361e-01  2.57708280e-01 -2.26367514e-01 -9.78757290e-01\n",
      " -1.76576129e+00 -2.98001164e-01  1.85903416e-01  7.03691091e-01\n",
      "  2.61264405e-01  2.11788631e-01  3.26972430e-01 -1.22315137e+00\n",
      " -2.56377901e-01  4.75221085e-01 -1.64932280e+00 -1.68935331e+00\n",
      " -2.67842597e+00 -1.86455826e+00 -1.04197704e-01 -3.81392846e-01\n",
      " -1.39060025e+00 -2.26595577e-01  5.93529532e-03  7.71032633e-01\n",
      " -4.33349955e-01 -2.25355079e-01 -1.00011001e+00 -7.20467599e-01\n",
      "  2.06074067e+00 -3.63528033e-01  6.30939077e-01 -3.66157046e-01\n",
      " -7.84324887e-01 -3.89055869e-01  8.45189114e-01 -1.00006280e+00\n",
      " -2.45466356e+00 -1.25862944e+00 -1.22084477e-01 -1.07107638e+00\n",
      " -1.35406432e+00 -1.45444077e+00  1.04176765e+00  7.12397838e-01\n",
      " -2.15845653e-02 -9.24064644e-01 -8.79772390e-02 -3.75608601e-01\n",
      "  1.04992752e+00  1.96735576e+00 -1.66444430e-01  3.50418789e-01\n",
      "  7.61293688e-02  2.90915694e-02 -1.32641161e-01  2.65995610e-01\n",
      "  1.37215140e+00  1.36425399e+00 -1.18795423e+00 -1.43145105e-01\n",
      "  1.84845866e+00 -8.60902672e-01 -1.15781024e+00  4.37266170e-02\n",
      " -4.42150048e-01 -8.09955066e-01  1.72384633e+00 -7.19893150e-01\n",
      "  1.55005157e+00  9.89211783e-01 -8.56709676e-01 -5.27127720e-01\n",
      " -6.23452459e-01  8.10953481e-01  5.88653630e-01  1.02858449e+00\n",
      " -1.49069974e+00  2.18334382e-02 -1.75262471e+00  2.02472854e+00\n",
      "  1.08474322e+00  1.03266591e+00  2.32989480e-01 -1.95156991e-01\n",
      " -5.07137581e-01 -4.88113131e-02  8.71625036e-01 -8.03884555e-01\n",
      "  4.57734400e-01 -8.86398344e-01  8.64378920e-02  4.58517994e-01\n",
      " -9.30760948e-01 -1.68622001e+00  8.19600482e-01 -1.80775053e+00\n",
      "  1.20122744e+00  1.24993553e-02  8.04168252e-01  4.01118113e-01\n",
      "  5.81198156e-01 -1.03830702e-01  6.30724272e-01  1.81915890e+00\n",
      " -1.18274088e+00 -4.63931479e-02  1.12190319e+00  1.96304183e-01\n",
      " -9.12111920e-01  2.07425756e-01 -2.15880490e+00  1.75893852e-01\n",
      "  1.54920045e+00  3.83136574e-01  4.43380790e-01 -1.56510663e+00\n",
      " -1.67593495e+00 -5.17034880e-01  1.32500748e-01 -5.49843182e-02\n",
      "  8.46152878e-01  1.16426569e+00 -5.24525918e-01 -5.72136804e-01\n",
      " -6.76965132e-01 -4.32867854e-01  1.84686979e-01  3.20842594e+00\n",
      " -8.48370420e-01  3.44219799e-02  1.52927610e-01  9.48998380e-01\n",
      " -3.82601367e-01  3.58658372e-01  4.57656980e-01  9.50790750e-01\n",
      " -5.17316283e-01 -1.43549332e+00 -2.60647439e-01 -3.55063251e-01\n",
      "  9.44667205e-01  1.90266756e+00 -1.13168192e+00  5.16242405e-01\n",
      "  5.29564700e-01  2.31249131e+00  1.98060656e-01 -1.69745821e+00\n",
      "  3.07958300e-02  5.58617937e-01  3.18981862e-02  8.98559570e-01\n",
      "  1.18260655e-01 -2.81113608e-01 -1.21590532e+00  1.38279530e+00\n",
      "  7.25807738e-01 -5.01794016e-01 -4.52258833e-01  6.33888337e-01\n",
      "  1.80325477e-01  5.61890113e-01 -9.57452121e-01 -2.39313610e+00\n",
      " -7.74113724e-01  1.57535402e+00 -1.79555254e+00 -2.03966622e+00\n",
      " -3.20085553e+00 -2.34356065e-01  6.34990275e-01  1.27946066e+00\n",
      "  1.01097219e+00  5.99982356e-01  9.69994403e-01  5.68639041e-02\n",
      "  2.21411315e-01  3.51683923e-01 -2.22893907e+00  4.57300290e-01\n",
      " -5.60861220e-01  5.03129791e-01  4.82265027e-01 -1.39959618e+00\n",
      " -2.47561701e-01  9.41429097e-01 -1.07295791e+00 -1.70244062e-01\n",
      " -5.05866640e-01  1.87122777e-01  3.39494778e-01  4.43530329e-01\n",
      "  2.00987012e-01  3.93365560e-01 -1.39066699e-01 -2.02389794e-01\n",
      "  1.77992593e+00  1.21223765e-01  1.66588561e-01  1.88888136e+00\n",
      "  1.64243121e+00  1.36986770e-01  5.81598660e-01  3.96238043e-01\n",
      " -9.95795710e-01  4.56764662e-01 -3.56643980e-01 -6.22259872e-01\n",
      " -2.01844025e+00 -2.04941211e+00 -4.23513276e-01 -1.74651267e-01\n",
      "  4.36967182e-03  7.56476091e-01  1.65915733e+00 -9.75522165e-01\n",
      " -3.72020789e-01  2.69897149e-03 -1.28446563e+00 -2.19119909e-01\n",
      " -1.45817303e-01 -1.15694898e+00 -3.57959668e-01 -6.26476487e-01\n",
      "  1.23522692e-01  2.10331558e+00 -1.18562558e+00 -9.73764067e-01\n",
      "  6.94944712e-01  4.66446712e-01  4.07890712e-01  8.91556511e-01\n",
      "  2.18847613e+00 -3.40971504e-01 -3.45491195e-01 -7.12050436e-01\n",
      " -3.04976550e-01 -1.11910195e+00  8.52530779e-01 -2.25009124e+00\n",
      " -8.66669435e-01  3.01258740e-01  1.68326876e-02  1.84425317e-01\n",
      "  5.75390133e-01  8.54136428e-01  2.20747135e-02  2.12529268e+00\n",
      " -8.37130067e-01  1.24779554e+00 -4.10565202e-01 -1.61166171e-01\n",
      " -3.08853598e-01 -2.10581119e+00  1.10783342e+00 -1.45294837e+00\n",
      "  1.13361217e+00 -2.78444555e-01 -7.87973194e-01 -9.82456926e-01\n",
      "  1.39633040e-01 -5.12050184e-01  3.10004441e-01  9.75709002e-01\n",
      "  1.36799941e+00  7.23535110e-01  2.01652305e-01  2.39446027e+00\n",
      "  1.89196952e+00 -2.68645620e-01 -3.42268349e-01 -1.49895292e-01\n",
      "  1.52937382e+00  1.99707635e+00 -1.51311215e+00 -2.20389627e+00\n",
      " -5.02243439e-02  6.19593211e-01 -1.18330520e+00  2.47184227e-01\n",
      " -5.19567990e-01 -8.54395206e-01  7.57951398e-01 -1.80321662e-01\n",
      "  2.72884728e-01  4.41871892e-01 -1.02207522e+00  4.22157186e-01\n",
      " -1.28470614e+00 -2.48451852e-01  2.81271280e+00  6.09144605e-02\n",
      "  6.92379464e-01 -1.04570388e+00 -3.46069459e-01  1.15149691e+00\n",
      "  1.99676673e-01  1.67842865e+00  4.05321507e-01 -4.62347265e-01\n",
      "  5.36376024e-01 -4.71606273e-01 -7.12055468e-01  9.45521148e-01\n",
      " -2.85461917e+00  9.72742575e-01  3.68808990e-01 -2.06669371e+00\n",
      "  8.84549508e-01  2.38733379e+00 -1.43642103e+00  1.46199625e+00\n",
      "  7.50867543e-01  1.74461206e-01 -7.74840176e-01  4.96978249e-01\n",
      " -5.54661263e-01  3.12118193e+00 -5.47846550e-01  9.91250531e-01\n",
      "  1.33310665e+00 -7.85136505e-01 -1.95517780e+00 -3.02900787e-01\n",
      " -5.65998966e-01  3.23149429e-01 -1.85371465e-01 -9.67559958e-02\n",
      " -1.03650581e+00 -8.12218474e-02 -6.81673608e-01 -3.34250514e-01\n",
      "  1.07350872e+00  6.86919165e-01 -6.79778371e-01 -1.28413165e+00\n",
      "  3.12398105e-01  9.98306373e-01  2.56983115e-01  3.51305944e-01\n",
      " -3.00265191e+00  1.43910315e-01 -1.13114841e+00 -2.54226292e-01\n",
      " -1.08474638e+00  2.56731812e-01 -1.51206825e+00  2.86447924e-01\n",
      " -5.29401415e-01  1.08301054e+00 -1.69900083e+00  2.28230401e-01\n",
      " -2.87444970e-01  1.64469999e-01  1.70141900e+00  3.17454339e-01\n",
      "  4.65498511e-01  1.39392905e+00  1.45978776e+00 -1.20501268e+00\n",
      " -1.56330384e-01  5.40667026e-01  1.78105987e+00  8.90816360e-01\n",
      " -8.02493951e-01 -8.40847379e-01  3.41109232e-01 -1.47400695e+00\n",
      " -5.27945628e-01  9.17355573e-02 -6.96701194e-03 -3.14085715e-01\n",
      " -3.30551751e-01 -9.23087508e-01 -2.54647041e+00 -2.04074427e-01\n",
      " -5.62317533e-02 -8.66682708e-02  4.61692532e-01  3.79782148e-01\n",
      " -2.82792190e-01 -6.81786735e-01  8.66267082e-02  1.26392914e+00\n",
      "  2.41720175e-01 -1.13213326e+00 -7.92831230e-01  3.11705779e-02\n",
      "  4.88048403e-01  8.59475554e-01  1.43060117e+00 -8.50303123e-01\n",
      " -3.07882046e-01  8.39264224e-02 -1.41908491e-02  8.91149539e-01\n",
      " -2.95734948e-01 -3.31224619e-01 -1.15594477e+00  1.40822638e-01\n",
      " -1.88218245e+00  2.00361970e+00  7.96896949e-01 -3.31167195e-01\n",
      "  1.10353056e+00 -2.38428527e-01  1.24509414e+00  1.24525814e+00\n",
      "  8.44374651e-01 -6.66399228e-01 -5.91599109e-01 -1.28617708e-01\n",
      "  4.18789697e-01  7.64148940e-02  7.40754493e-01 -1.24297075e+00\n",
      "  9.53435030e-01 -4.48497658e-01  2.19894519e-01 -9.58069672e-01\n",
      "  3.86083297e-01  8.68157294e-01 -1.08670889e-01  1.72468461e+00\n",
      "  3.15483881e-02 -1.96239169e+00 -1.43656672e+00  5.99529335e-02\n",
      "  7.50438075e-03 -2.73980011e-01 -1.90219207e+00 -4.03150520e-01\n",
      "  1.24348731e-01  8.35689776e-01  1.21908566e+00 -2.29892633e+00\n",
      " -8.25230118e-01  6.15737341e-01 -7.99914235e-02 -9.53832260e-01\n",
      "  1.18819599e+00 -1.98451473e+00  1.29347080e+00  1.15048714e-01\n",
      " -7.70324719e-01  3.87266973e-01 -8.91055106e-01 -1.03444753e-01\n",
      " -1.97991169e-01  2.99158879e-01 -7.41508649e-01 -1.07715756e+00\n",
      " -1.07041471e+00  8.50973774e-01  1.41232762e+00 -3.21739691e-01\n",
      " -6.23056991e-01  9.55609641e-01  5.35984642e-01 -5.64330691e-01\n",
      "  2.60544635e-01 -6.64992554e-01  1.16900332e+00 -2.42110635e-01\n",
      "  8.09401114e-02  1.63302439e+00 -2.24184838e+00  6.88179332e-01\n",
      "  6.66629704e-01  1.25965048e-01 -6.69238429e-01 -3.57389500e-01\n",
      "  1.12966644e-01 -2.00197867e+00  1.90436459e+00  3.52603474e-01\n",
      " -1.01969739e+00 -2.75940007e-01 -9.09611818e-01  3.37987501e-01\n",
      " -4.48007342e-01 -6.88726099e-01  1.16286576e+00  6.47852449e-01\n",
      " -9.93201286e-01  3.87587843e-01 -3.28410525e-01  3.66308303e-01\n",
      "  1.00530873e+00  9.93297065e-01 -6.76017016e-01 -3.42458901e-01\n",
      " -1.24298450e+00 -9.45034343e-01 -5.57801392e-01 -7.63429845e-01\n",
      " -2.68433800e-01 -7.12519615e-01  4.08251744e-01  8.02393165e-01\n",
      "  1.58752146e-01 -1.02682820e+00 -1.05204273e-01 -4.85894700e-01\n",
      "  4.01713390e-02  1.71081962e+00 -3.75557433e-01  1.21925862e-01\n",
      "  4.29247394e-02  4.31953847e-01 -2.27389590e-02  1.99509686e+00\n",
      " -7.77549304e-01  8.07906227e-01 -1.54560239e+00  1.64158703e-02]\n"
     ]
    }
   ],
   "source": [
    "print(\"Fith Array:\",Array_5)"
   ]
  },
  {
   "cell_type": "code",
   "execution_count": 8,
   "metadata": {},
   "outputs": [
    {
     "data": {
      "image/png": "[encoded data removed]",
      "text/plain": [
       "<Figure size 432x288 with 1 Axes>"
      ]
     },
     "metadata": {
      "needs_background": "light"
     },
     "output_type": "display_data"
    }
   ],
   "source": [
    "# Show some histograms of data for some of arrays\n",
    "Hist_Array_5 = np.random.randn(1000)\n",
    "plt.hist(Hist_Array_5, bins=20)\n",
    "plt.show()"
   ]
  },
  {
   "cell_type": "code",
   "execution_count": 9,
   "metadata": {},
   "outputs": [
    {
     "name": "stdout",
     "output_type": "stream",
     "text": [
      "                 0\n",
      "count  1000.000000\n",
      "mean     -0.037266\n",
      "std       1.007271\n",
      "min      -3.604990\n",
      "25%      -0.707703\n",
      "50%      -0.059111\n",
      "75%       0.668410\n",
      "max       3.223448\n"
     ]
    }
   ],
   "source": [
    "# Build a data frame and some some stats through describe function\n",
    "\n",
    "df_3 = pd.DataFrame(Hist_Array_5)\n",
    "print(df_3.describe())"
   ]
  },
  {
   "cell_type": "markdown",
   "metadata": {},
   "source": [
    "From histogram you can claerly see a diffrence in use of this function in producin a bell shaped curve which suggests that data is following normal distribution."
   ]
  },
  {
   "cell_type": "markdown",
   "metadata": {},
   "source": [
    "# numpy.random.randint function\n",
    "\n",
    "It returns an array of specified shape and fills it with random integers from low (inclusive) to high (exclusive), i.e. in the interval (low, high)."
   ]
  },
  {
   "cell_type": "code",
   "execution_count": 10,
   "metadata": {},
   "outputs": [
    {
     "name": "stdout",
     "output_type": "stream",
     "text": [
      "Sixth Array: 32\n",
      "Seventh Array: 420\n",
      "Eight Array: 188\n",
      "Ningth Array: 3\n"
     ]
    }
   ],
   "source": [
    "Array_6 = np.random.randint(1000)\n",
    "print(\"Sixth Array:\",Array_6)\n",
    "Array_7 = np.random.randint(1000)\n",
    "print(\"Seventh Array:\",Array_7)\n",
    "Array_8 = np.random.randint(100, high=200)\n",
    "print(\"Eight Array:\",Array_8)\n",
    "Array_9 = np.random.randint(1, high=5)\n",
    "print(\"Ningth Array:\",Array_9)"
   ]
  },
  {
   "cell_type": "markdown",
   "metadata": {},
   "source": [
    "# numpy.random.random_sample function\n",
    "\n",
    "numpy.random.random_sample() is one of the function for doing random sampling in numpy. It returns an array of specified shape and fills it with random floats in the half-open interval (0.0, 1.0). "
   ]
  },
  {
   "cell_type": "code",
   "execution_count": 11,
   "metadata": {},
   "outputs": [
    {
     "name": "stdout",
     "output_type": "stream",
     "text": [
      "Tenth Array: [0.41836732 0.58498153 0.83907127 0.04833339 0.54859475 0.51332061\n",
      " 0.26977039 0.98329212 0.97719856 0.60291612 0.29487356 0.08064606\n",
      " 0.8421937  0.36945629 0.88901768 0.27793072 0.59405663 0.75111158\n",
      " 0.0989198  0.34152849 0.76073769 0.06682338 0.67397815 0.79217376\n",
      " 0.92850335 0.9911691  0.36549365 0.113278   0.7897669  0.8828923\n",
      " 0.26218985 0.39980455 0.99311024 0.34432319 0.63777645 0.68953432\n",
      " 0.43223605 0.89082305 0.70532862 0.99433356 0.57141761 0.70784677\n",
      " 0.85989866 0.8479751  0.28705088 0.84728424 0.42913843 0.239084\n",
      " 0.74375779 0.61101969]\n",
      "Array 11: [[0.36003793 0.2838001 ]\n",
      " [0.13397501 0.96576631]\n",
      " [0.3241981  0.40965776]\n",
      " [0.19541511 0.72894679]\n",
      " [0.52024502 0.02797668]\n",
      " [0.23355583 0.2780329 ]\n",
      " [0.49797454 0.03611941]\n",
      " [0.99463509 0.91718792]\n",
      " [0.56399105 0.91835401]\n",
      " [0.95449168 0.80275064]\n",
      " [0.45603106 0.96312536]\n",
      " [0.44109572 0.98623819]\n",
      " [0.65063485 0.95289347]\n",
      " [0.1369907  0.47789103]\n",
      " [0.02295853 0.30737405]]\n"
     ]
    }
   ],
   "source": [
    "Array_10 = np.random.random_sample((50,))\n",
    "print(\"Tenth Array:\",Array_10)\n",
    "Array_11 = np.random.random_sample((15,2))\n",
    "print(\"Array 11:\",Array_11)"
   ]
  },
  {
   "cell_type": "markdown",
   "metadata": {},
   "source": [
    "# numpy.random.choice function\n",
    "\n",
    "Python random module‘s random.choice() function returns a random element from the non-empty sequence. It can use the choice() function for selecting a random password from word-list, Selecting a random item from the available data."
   ]
  },
  {
   "cell_type": "code",
   "execution_count": 12,
   "metadata": {},
   "outputs": [
    {
     "name": "stdout",
     "output_type": "stream",
     "text": [
      "Array 12: Trina\n",
      "Array 13: Grace\n",
      "Array 14: ['Grace' 'Ross' 'Trina']\n"
     ]
    }
   ],
   "source": [
    "# Created list of strings of family names\n",
    "\n",
    "Names = ['Hannah', 'Grace','Adam', 'Trina','Ross']\n",
    "\n",
    "Array_12 = np.random.choice(Names)\n",
    "print(\"Array 12:\",Array_12)\n",
    "Array_13 = np.random.choice(Names)\n",
    "print(\"Array 13:\",Array_13)\n",
    "Array_14 = np.random.choice(Names, size=3)\n",
    "print(\"Array 14:\",Array_14)"
   ]
  },
  {
   "cell_type": "markdown",
   "metadata": {},
   "source": [
    "# numpy.random.random_integers function\n",
    "\n",
    "numpy.random.random_integers() is one of the function for doing random sampling in numpy. It returns an array of specified shape and fills it with random integers from low (inclusive) to high (exclusive), i.e. in the interval (low, high)."
   ]
  },
  {
   "cell_type": "code",
   "execution_count": 13,
   "metadata": {},
   "outputs": [
    {
     "name": "stdout",
     "output_type": "stream",
     "text": [
      "4\n"
     ]
    }
   ],
   "source": [
    "int_1 = np.random.randint(10)\n",
    "print(int_1)"
   ]
  },
  {
   "cell_type": "code",
   "execution_count": 14,
   "metadata": {},
   "outputs": [
    {
     "name": "stdout",
     "output_type": "stream",
     "text": [
      "[[9 5]\n",
      " [7 6]\n",
      " [6 3]\n",
      " [4 0]\n",
      " [8 2]]\n"
     ]
    }
   ],
   "source": [
    "int_2 = np.random.randint(10, size=(5,2))\n",
    "print(int_2)"
   ]
  },
  {
   "cell_type": "markdown",
   "metadata": {},
   "source": [
    "# Permutations"
   ]
  },
  {
   "cell_type": "markdown",
   "metadata": {},
   "source": [
    "# numpy.random.shuffle function\n",
    "\n",
    "Modifies a sequence in-place by shuffling its contents. This function only shuffles the array along the first axis of a multi-dimensional array. The order of sub-arrays is changed but their contents remains the same."
   ]
  },
  {
   "cell_type": "code",
   "execution_count": 15,
   "metadata": {},
   "outputs": [
    {
     "name": "stdout",
     "output_type": "stream",
     "text": [
      "Shuffle 1: [79 24  6 57 13 29 44 59 58 85 32 75 95 48 34 23 92 81 33 16 89 73 50 68\n",
      " 65 47 99 22 10 86 36 78 64 37 40 42 80 12  1 62 17  0 25 96 87 46 31 54\n",
      " 30 82 20 21 94 35 66 69 41  5 71 11  4 74 61  2 15 60 67 88  3 18 52 26\n",
      " 91 39 77 93 63  8 76 28 83 19 90  7 55 84 98 56 70 72 53 45 14  9 49 43\n",
      " 51 27 38 97]\n",
      "Shuffle 2: [46 24 84 90 26 73 36 16 91 49 86 54 15 37  3 39 77 30  6 32  2 58 94 42\n",
      " 95 48 69 80 64 11 97 68  1 43 33 28 45 81 17 63 98 99 10  9 55 34 92 56\n",
      " 67 18 41 62 59 12 96 83 57 66 82 35 51 87 38 23 88  0 47 76 14 53 79 85\n",
      " 72 60 93 89 50 27 52 19 61 20 25  8 74 78 40 65  5 70  4 44 31 71 75 21\n",
      "  7 29 13 22]\n"
     ]
    }
   ],
   "source": [
    "arr_1 = np.arange(100)\n",
    "np.random.shuffle(arr_1)\n",
    "print('Shuffle 1:',arr_1)\n",
    "\n",
    "arr_2 = np.arange(100)\n",
    "np.random.shuffle(arr_2)\n",
    "print('Shuffle 2:',arr_2)"
   ]
  },
  {
   "cell_type": "markdown",
   "metadata": {},
   "source": [
    " # numpy.random.permutation function\n",
    " \n",
    " Randomly permute a sequence, or return a permuted range. If x is a multi-dimensional array, it is only shuffled along its first index."
   ]
  },
  {
   "cell_type": "code",
   "execution_count": 16,
   "metadata": {},
   "outputs": [
    {
     "name": "stdout",
     "output_type": "stream",
     "text": [
      "Permutation 1: ['Adam' 'Hannah' 'Trina' 'Grace' 'Ross']\n",
      "Permutation 2: ['Grace' 'Adam' 'Hannah' 'Ross' 'Trina']\n"
     ]
    }
   ],
   "source": [
    "Names = ['Ross', 'Hannah', 'Grace','Adam','Trina']\n",
    "\n",
    "Names_1 = np.random.permutation(Names)\n",
    "print('Permutation 1:',Names_1)\n",
    "Names_2 = np.random.permutation(Names)\n",
    "print('Permutation 2:',Names_2)"
   ]
  },
  {
   "cell_type": "markdown",
   "metadata": {},
   "source": [
    "# Distributions\n",
    "\n",
    "# Normal Distribution\n",
    "\n",
    "Also known as the Gaussian distribution, is a probability distribution that is symmetric about the mean, showing that data near the mean are more frequent in occurrence than data far from the mean. In graph form, normal distribution will appear as a bell curve.\n",
    "![](ND.PNG)\n",
    "\n",
    "# Rayleigh Distribution\n",
    "\n",
    "Rayleigh distribution is a continuous probability distribution for positive-valued random variables.\n",
    "![](RD.PNG)\n",
    "\n",
    "# Triangular Distribution\n",
    "\n",
    "A triangular distribution is a continuous probability distribution with a probability density function shaped like a triangle. It is defined by three values: the minimum value a, the maximum value b, and the peak value c.\n",
    "\n",
    "![](TD.PNG)"
   ]
  },
  {
   "cell_type": "code",
   "execution_count": 17,
   "metadata": {},
   "outputs": [
    {
     "data": {
      "image/png": "[encoded data removed]",
      "text/plain": [
       "<Figure size 432x288 with 1 Axes>"
      ]
     },
     "metadata": {
      "needs_background": "light"
     },
     "output_type": "display_data"
    },
    {
     "data": {
      "image/png": "[encoded data removed]",
      "text/plain": [
       "<Figure size 432x288 with 1 Axes>"
      ]
     },
     "metadata": {
      "needs_background": "light"
     },
     "output_type": "display_data"
    },
    {
     "data": {
      "image/png": "[encoded data removed]",
      "text/plain": [
       "<Figure size 432x288 with 1 Axes>"
      ]
     },
     "metadata": {
      "needs_background": "light"
     },
     "output_type": "display_data"
    },
    {
     "data": {
      "image/png": "[encoded data removed]",
      "text/plain": [
       "<Figure size 432x288 with 1 Axes>"
      ]
     },
     "metadata": {
      "needs_background": "light"
     },
     "output_type": "display_data"
    },
    {
     "data": {
      "image/png": "[encoded data removed]",
      "text/plain": [
       "<Figure size 432x288 with 1 Axes>"
      ]
     },
     "metadata": {
      "needs_background": "light"
     },
     "output_type": "display_data"
    }
   ],
   "source": [
    "# Normal Distribution\n",
    "\n",
    "mu, sigma = 0, 0.1 \n",
    "\n",
    "s = np.random.normal(mu, sigma, 1000)\n",
    "\n",
    "count, bins, ignored = plt.hist(s, 50, density=True)\n",
    "plt.plot(bins, 1/(sigma * np.sqrt(2 * np.pi)) *\n",
    "np.exp( - (bins - mu)**2 / (2 * sigma**2) ),\n",
    "linewidth=2, color='g')\n",
    "plt.title('Normal Distribution')\n",
    "plt.show()\n",
    "\n",
    "# Rayleigh Distribution\n",
    "\n",
    "ray = np.random.rayleigh(3, 100000)\n",
    "plt.hist(ray,bins = 50)\n",
    "plt.title('Rayleigh Distribution')\n",
    "plt.show()\n",
    "\n",
    "# Triangular Distribution\n",
    "\n",
    "Tri = np.random.triangular(-3, 0, 8, 100000)\n",
    "plt.hist(Tri,bins = 50,density=True)\n",
    "plt.title('Triangular Distribution')\n",
    "plt.show()\n",
    "\n",
    "# Poisson Distribution\n",
    "\n",
    "Poi = np.random.poisson(5, 10000)\n",
    "plt.hist(Poi,bins = 50,density=True)\n",
    "plt.title('Poisson Distribution')\n",
    "plt.show()\n",
    "\n",
    "# Gamma Distribution\n",
    "\n",
    "shape, scale = 2., 2.  # mean=4, std=2*sqrt(2)\n",
    "s = np.random.gamma(shape, scale, 1000)\n",
    "\n",
    "count, bins, ignored = plt.hist(s, 50, density=True)\n",
    "y = bins**(shape-1)*(np.exp(-bins/scale) /\n",
    "(sps.gamma(shape)*scale**shape))\n",
    "plt.plot(bins, y, linewidth=2, color='g')\n",
    "plt.title('Gamma Distribution')\n",
    "plt.show()\n"
   ]
  },
  {
   "cell_type": "markdown",
   "metadata": {},
   "source": [
    "# Seeds"
   ]
  },
  {
   "cell_type": "code",
   "execution_count": 18,
   "metadata": {},
   "outputs": [
    {
     "name": "stdout",
     "output_type": "stream",
     "text": [
      "Seed 1: [0.4359949  0.02592623 0.54966248 0.43532239 0.4203678  0.33033482\n",
      " 0.20464863 0.61927097 0.29965467 0.26682728]\n"
     ]
    }
   ],
   "source": [
    "np.random.seed (2)\n",
    "\n",
    "Seed_1 = np.random.rand(10)\n",
    "print('Seed 1:',Seed_1)"
   ]
  },
  {
   "cell_type": "code",
   "execution_count": 19,
   "metadata": {},
   "outputs": [
    {
     "name": "stdout",
     "output_type": "stream",
     "text": [
      "Seed 2: [0.4359949  0.02592623 0.54966248 0.43532239 0.4203678  0.33033482\n",
      " 0.20464863 0.61927097 0.29965467 0.26682728]\n"
     ]
    }
   ],
   "source": [
    "np.random.seed (2)\n",
    "\n",
    "Seed_2 = np.random.rand(10)\n",
    "print('Seed 2:',Seed_2)"
   ]
  },
  {
   "cell_type": "code",
   "execution_count": 20,
   "metadata": {},
   "outputs": [
    {
     "name": "stdout",
     "output_type": "stream",
     "text": [
      "Seed 3: [0.5507979  0.70814782 0.29090474 0.51082761 0.89294695 0.89629309\n",
      " 0.12558531 0.20724288 0.0514672  0.44080984]\n"
     ]
    }
   ],
   "source": [
    "np.random.seed (3)\n",
    "\n",
    "Seed_3 = np.random.rand(10)\n",
    "print('Seed 3:',Seed_3)"
   ]
  },
  {
   "cell_type": "code",
   "execution_count": 21,
   "metadata": {},
   "outputs": [
    {
     "name": "stdout",
     "output_type": "stream",
     "text": [
      "Seed 4: [0.5507979  0.70814782 0.29090474 0.51082761 0.89294695 0.89629309\n",
      " 0.12558531 0.20724288 0.0514672  0.44080984]\n"
     ]
    }
   ],
   "source": [
    "np.random.seed (3)\n",
    "\n",
    "Seed_4 = np.random.rand(10)\n",
    "print('Seed 4:',Seed_4)"
   ]
  },
  {
   "cell_type": "markdown",
   "metadata": {},
   "source": [
    "# References"
   ]
  },
  {
   "cell_type": "markdown",
   "metadata": {},
   "source": [
    "1. https://docs.scipy.org/doc/numpy-1.14.0/reference/routines.random.html\n",
    "2. https://www.datacamp.com/community/tutorials/probability-distributions-python\n",
    "3. https://realpython.com/python-random/\n",
    "4. https://en.wikipedia.org/wiki/Mersenne_Twister\n",
    "5. https://onlinecoursetutorials.com/numpy/numpy-random-rand-in-python\n",
    "6. https://www.geeksforgeeks.org/numpy-random-randn-python\n",
    "7. https://www.geeksforgeeks.org/random-sampling-in-numpy-randint-function\n",
    "8. https://www.geeksforgeeks.org/random-sampling-in-numpy-random_sample-function\n",
    "9. https://pynative.com/python-random-choice\n",
    "10. https://en.wikipedia.org/wiki/Normal_distribution\n",
    "11. https://en.wikipedia.org/wiki/Triangular_distribution\n",
    "12. https://en.wikipedia.org/wiki/Rayleigh_distribution"
   ]
  },
  {
   "cell_type": "code",
   "execution_count": null,
   "metadata": {},
   "outputs": [],
   "source": []
  }
 ],
 "metadata": {
  "kernelspec": {
   "display_name": "Python 3",
   "language": "python",
   "name": "python3"
  },
  "language_info": {
   "codemirror_mode": {
    "name": "ipython",
    "version": 3
   },
   "file_extension": ".py",
   "mimetype": "text/x-python",
   "name": "python",
   "nbconvert_exporter": "python",
   "pygments_lexer": "ipython3",
   "version": "3.7.1"
  }
 },
 "nbformat": 4,
 "nbformat_minor": 2
}
