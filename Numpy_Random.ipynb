{
 "cells": [
  {
   "cell_type": "markdown",
   "metadata": {},
   "source": [
    "# Numpy Random Assignment 2019"
   ]
  },
  {
   "cell_type": "markdown",
   "metadata": {},
   "source": [
    "The following assignment concerns the numpy.random package in Python. A Jupyter notebook was created explaining the use of the package, including detailed explanations of at least five of the distributions provided for in the package.\n",
    "\n",
    "There are four distinct tasks carried out in this Jupyter notebook:\n",
    "\n",
    "1. Explain the overall purpose of the package.\n",
    "2. Explain the use of the “Simple random data” and “Permutations” functions.\n",
    "3. Explain the use and purpose of at least five “Distributions” functions.\n",
    "4. Explain the use of seeds in generating pseudorandom numbers."
   ]
  },
  {
   "cell_type": "code",
   "execution_count": 1,
   "metadata": {},
   "outputs": [],
   "source": [
    "import numpy as np\n",
    "import matplotlib.pyplot as plt\n",
    "import pandas as pd\n",
    "import scipy.special as sps\n",
    "%matplotlib inline"
   ]
  },
  {
   "cell_type": "markdown",
   "metadata": {},
   "source": [
    "# Use of Numpy.Random Package\n",
    "\n",
    "Most random data generated with Python is not fully random in the scientific sense of the word. Rather, it is pseudorandom: generated with a pseudorandom number generator (PRNG), which is essentially any algorithm for generating seemingly random but still reproducible data.\n",
    "Probably the most widely known tool for generating random data in Python is its numpy.random module, which uses the Mersenne Twister PRNG algorithm as its core generator.The Mersenne Twister is a pseudorandom number generator (PRNG). It is by far the most widely used general-purpose PRNG. Its name derives from the fact that its period length is chosen to be a Mersenne prime."
   ]
  },
  {
   "cell_type": "markdown",
   "metadata": {},
   "source": [
    "# Simple Random Data\n",
    "\n",
    "This section will use serveral functions that will be used to generated random data. See examples below."
   ]
  },
  {
   "cell_type": "markdown",
   "metadata": {},
   "source": [
    "# numpy.random.rand function\n",
    "\n",
    "This function returns Random values in a given shape. It creates an array of the given shape and populates it with random samples from a uniform distribution over [0,1]. The dimensions of the returned array, should all be positive. If no argument is given a single Python float is returned."
   ]
  },
  {
   "cell_type": "code",
   "execution_count": 2,
   "metadata": {},
   "outputs": [],
   "source": [
    "# give variable name\n",
    "\n",
    "Array_1 = np.random.rand(10)\n",
    "Array_2 = np.random.rand(10)\n",
    "Array_3 = np.random.rand(2,10)\n",
    "Array_4 = np.random.rand(2,10)"
   ]
  },
  {
   "cell_type": "code",
   "execution_count": 3,
   "metadata": {},
   "outputs": [
    {
     "name": "stdout",
     "output_type": "stream",
     "text": [
      "First Array: [0.70526991 0.64698559 0.22196168 0.45012194 0.75725748 0.33298707\n",
      " 0.57468271 0.06241347 0.62005447 0.03071789]\n",
      "Second Array: [0.77335133 0.04970242 0.3209813  0.19160228 0.09513116 0.23888217\n",
      " 0.25910013 0.429288   0.37347795 0.58554292]\n",
      "Third Array: [[0.34360297 0.74158081 0.4798019  0.83377398 0.18407311 0.16321449\n",
      "  0.55767518 0.52748486 0.49243219 0.12064896]\n",
      " [0.92455787 0.77207083 0.46028901 0.85672887 0.3982206  0.52400236\n",
      "  0.57314255 0.29733003 0.0286503  0.17562764]]\n",
      "Fourth Array: [[0.04632384 0.34052343 0.00818606 0.58835307 0.13503102 0.81104676\n",
      "  0.16627735 0.83524267 0.04748381 0.88510681]\n",
      " [0.09776042 0.98801016 0.44388494 0.05933475 0.48347419 0.29921111\n",
      "  0.27969271 0.26632933 0.02486474 0.04952507]]\n"
     ]
    }
   ],
   "source": [
    "# use of print function to see output\n",
    "\n",
    "print(\"First Array:\",Array_1)\n",
    "print(\"Second Array:\",Array_2)\n",
    "print(\"Third Array:\",Array_3)\n",
    "print(\"Fourth Array:\",Array_4)"
   ]
  },
  {
   "cell_type": "markdown",
   "metadata": {},
   "source": [
    "You will see from above array outputs the sequence in a random fashion."
   ]
  },
  {
   "cell_type": "code",
   "execution_count": 4,
   "metadata": {},
   "outputs": [
    {
     "data": {
      "image/png": "[encoded data removed]",
      "text/plain": [
       "<Figure size 432x288 with 1 Axes>"
      ]
     },
     "metadata": {
      "needs_background": "light"
     },
     "output_type": "display_data"
    },
    {
     "data": {
      "image/png": "[encoded data removed]",
      "text/plain": [
       "<Figure size 432x288 with 1 Axes>"
      ]
     },
     "metadata": {
      "needs_background": "light"
     },
     "output_type": "display_data"
    },
    {
     "data": {
      "image/png": "[encoded data removed]",
      "text/plain": [
       "<Figure size 432x288 with 1 Axes>"
      ]
     },
     "metadata": {
      "needs_background": "light"
     },
     "output_type": "display_data"
    },
    {
     "data": {
      "image/png": "[encoded data removed]",
      "text/plain": [
       "<Figure size 432x288 with 1 Axes>"
      ]
     },
     "metadata": {
      "needs_background": "light"
     },
     "output_type": "display_data"
    }
   ],
   "source": [
    "# Show some histograms of data for some of arrays\n",
    "\n",
    "Hist_Array_1 = np.random.rand(1000)\n",
    "plt.hist(Hist_Array_1, bins=20)\n",
    "plt.show()\n",
    "Hist_Array_2 = np.random.rand(1000)\n",
    "plt.hist(Hist_Array_2, bins=20)\n",
    "plt.show()\n",
    "\n",
    "# change in bin number to show differences\n",
    "\n",
    "Hist_Array_1 = np.random.rand(1000)\n",
    "plt.hist(Hist_Array_1, bins=100)\n",
    "plt.show()\n",
    "Hist_Array_2 = np.random.rand(1000)\n",
    "plt.hist(Hist_Array_2, bins=100)\n",
    "plt.show()"
   ]
  },
  {
   "cell_type": "markdown",
   "metadata": {},
   "source": [
    "Use of histogarms shows slight diffrences that can be more visual when increasing bin numbers."
   ]
  },
  {
   "cell_type": "code",
   "execution_count": 5,
   "metadata": {},
   "outputs": [
    {
     "name": "stdout",
     "output_type": "stream",
     "text": [
      "                 0\n",
      "count  1000.000000\n",
      "mean      0.502245\n",
      "std       0.288458\n",
      "min       0.000008\n",
      "25%       0.246822\n",
      "50%       0.509309\n",
      "75%       0.748889\n",
      "max       0.998703\n",
      "                 0\n",
      "count  1000.000000\n",
      "mean      0.499707\n",
      "std       0.291363\n",
      "min       0.002476\n",
      "25%       0.242909\n",
      "50%       0.500402\n",
      "75%       0.755227\n",
      "max       0.998732\n"
     ]
    }
   ],
   "source": [
    "# Build a data frame and some some stats through describe function\n",
    "\n",
    "df_1 = pd.DataFrame(Hist_Array_1)\n",
    "print(df_1.describe())\n",
    "df_2 = pd.DataFrame(Hist_Array_2)\n",
    "print(df_2.describe())"
   ]
  },
  {
   "cell_type": "markdown",
   "metadata": {},
   "source": [
    "Along with histograms the use of data frame to see some statistics also show slight differences between the 2 arrays."
   ]
  },
  {
   "cell_type": "markdown",
   "metadata": {},
   "source": [
    "# numpy.random.randn function\n",
    "\n",
    "If positive arguments are provided, randn generates an array of shape (d0, d1, …, dn), filled with random floats sampled from a univariate “normal” (Gaussian) distribution of mean 0 and variance 1 (if any of the d_i are floats, they are first converted to integers by truncation)."
   ]
  },
  {
   "cell_type": "code",
   "execution_count": 6,
   "metadata": {},
   "outputs": [],
   "source": [
    "Array_5 = np.random.randn(1000)"
   ]
  },
  {
   "cell_type": "code",
   "execution_count": 7,
   "metadata": {},
   "outputs": [
    {
     "name": "stdout",
     "output_type": "stream",
     "text": [
      "Fith Array: [ 1.62638250e+00 -5.64384199e-02 -6.67668173e-01  7.17493784e-01\n",
      "  7.38339659e-01  1.11192785e+00  9.72099880e-01 -1.29294714e-01\n",
      " -8.33799862e-01  1.37618289e-01  1.75664902e+00  5.61799344e-01\n",
      " -4.58288980e-01  9.69717702e-02 -9.85618247e-01  8.85897589e-01\n",
      "  4.03342218e-01 -8.36478632e-01  1.29173627e+00 -1.86275320e+00\n",
      "  9.51786541e-02 -2.54212390e-01 -1.26944215e+00 -9.85368397e-01\n",
      " -8.79473377e-01 -3.36161359e-01  1.68186269e+00  8.69223777e-03\n",
      "  1.41529546e+00  5.97194913e-01 -1.46193333e+00  9.23955939e-01\n",
      " -2.96229635e-01 -7.99599931e-02 -1.28286089e+00 -7.55489352e-01\n",
      " -6.91452998e-01 -9.29093158e-01  6.29393994e-01 -1.98779805e+00\n",
      "  1.36966757e+00 -1.43417279e+00 -2.07993008e+00 -5.66068844e-01\n",
      "  9.17375568e-01 -4.23978041e-02  1.17865369e+00  9.15956746e-01\n",
      "  7.74404159e-01 -1.18818920e-01 -7.05744347e-02  1.00933012e+00\n",
      " -9.37767330e-01  4.64555812e-02  1.19492717e-01  1.86859299e+00\n",
      " -6.60005033e-01 -5.52611656e-02  1.75440929e+00  6.98282361e-01\n",
      "  5.54990495e-01  8.47958523e-02 -1.24763861e+00  3.15353390e-01\n",
      " -1.29872381e+00  1.25320453e+00  1.21764539e+00 -1.61992629e+00\n",
      " -1.91402335e+00 -2.71364143e+00  1.18153626e+00 -4.33152122e-01\n",
      "  9.93856910e-01 -6.25360191e-01 -4.31657801e-01 -8.33183302e-01\n",
      "  4.29275369e-01 -2.26963759e+00 -1.78937547e+00 -1.67656837e-01\n",
      "  7.89755366e-02  7.49028911e-02 -1.44713428e+00 -1.10319326e+00\n",
      " -5.90290364e-01  1.10169210e+00  4.00661060e-01  1.82762326e+00\n",
      " -1.27650621e+00 -6.43450214e-01 -3.44415937e-01  9.31572654e-01\n",
      "  1.22912839e+00  2.74181972e-01 -7.80326021e-01 -5.25952515e-02\n",
      " -1.24712308e+00 -1.24372313e-03  3.54006256e-01 -5.55463308e-01\n",
      "  1.32066356e+00  1.50911217e+00  2.14466432e-01  2.19280622e-01\n",
      "  3.48668537e-01  5.50040525e-01  9.32937589e-01 -5.03900408e-01\n",
      "  2.27048535e-01 -1.94149564e+00 -7.54624839e-01  7.18272509e-01\n",
      " -7.27720589e-01  4.04804690e-01  3.54492537e-01  6.54658468e-01\n",
      "  7.23869917e-02 -1.67915180e+00  1.09785830e+00  2.25545594e+00\n",
      "  1.21976874e+00  1.27067913e+00  7.18105894e-01 -5.92615665e-01\n",
      "  2.60267805e-01 -1.14238189e+00 -4.01764824e-02 -5.12576169e-01\n",
      " -8.21490428e-01  9.42428584e-01 -9.17842728e-01 -8.44968545e-01\n",
      " -1.22149351e+00  7.90807103e-01 -4.67727921e-02 -6.21626678e-01\n",
      " -3.07277786e-01  4.84239258e-01 -1.99344867e-01 -1.27818979e+00\n",
      "  1.27532122e-02  9.95824897e-01  7.11380352e-01  1.16791177e+00\n",
      "  1.46531696e+00  4.35167475e-01 -8.89912322e-02 -5.48515935e-01\n",
      " -4.95266492e-01  1.40260926e+00  4.71254870e-01  3.91580372e-01\n",
      " -8.52586261e-01 -1.31003986e+00 -2.51484761e-01 -5.27458680e-01\n",
      "  1.35542005e-01  3.95556631e-01 -8.87376920e-01 -9.46563714e-01\n",
      "  4.77131873e-01  1.64523104e+00  2.14829144e-01 -3.77756263e-01\n",
      " -2.68126067e-02  4.36077953e-01  3.54112467e-01  7.22140244e-01\n",
      "  1.07717974e-01 -5.50017461e-01  1.84506700e+00 -1.37846581e-02\n",
      "  4.11832371e-01  2.42752114e-01  3.48082628e-01 -5.05472766e-01\n",
      " -1.30069084e-01 -4.74349558e-01 -1.10123432e+00 -5.84339743e-01\n",
      " -8.88124023e-01  1.74666448e+00  4.72520345e-01  6.09437678e-01\n",
      "  1.44237889e+00  9.91551446e-02  1.33413358e+00  2.47926562e+00\n",
      "  4.12285045e-01  9.96212097e-01  1.58907094e+00 -6.25527397e-01\n",
      "  1.11064695e+00 -5.85548682e-01  1.63370096e+00  5.05080269e-01\n",
      "  2.34311483e+00 -2.75811375e-01  4.68717731e-01  6.76440342e-01\n",
      "  3.15918323e-01  6.93681196e-01 -1.00113789e+00  2.40581338e+00\n",
      " -2.70235090e-01  6.21717234e-01 -4.94496823e-01  2.59013682e-01\n",
      " -2.31459360e-01  1.09639721e-01  1.21838050e-01  7.20498422e-01\n",
      "  1.51236742e+00  1.10344423e+00 -1.65165234e-01  1.32609473e+00\n",
      " -2.64997898e+00  7.37532745e-01  6.02136448e-01  8.77181679e-01\n",
      "  1.91094082e+00 -8.73298897e-01  1.03533541e-01 -2.38161550e-01\n",
      " -1.02890767e+00 -4.70597869e-01  1.01494476e+00 -5.96252298e-01\n",
      " -1.70130566e-01 -7.09313272e-02  7.94995635e-01 -1.44111349e+00\n",
      "  2.22404645e-01 -1.15353960e+00  2.27368663e-01  3.71091318e-02\n",
      "  8.73341721e-01  1.30956427e+00 -1.60983028e+00 -2.08658531e+00\n",
      " -7.04243206e-02 -2.22037987e-01  3.83909474e-02 -1.46332297e-02\n",
      " -8.20960689e-01 -5.79703484e-01 -4.75009055e-01  4.37427949e-01\n",
      " -2.29441144e+00 -9.89884640e-01  1.89647026e+00 -7.83844386e-01\n",
      " -7.26966353e-01 -2.49492219e-01 -9.92088340e-02  3.20556848e-01\n",
      " -6.50818746e-01  1.00703327e+00  1.28113958e+00 -1.61443258e+00\n",
      " -9.05914062e-02 -2.66940603e-01  1.56456115e-01 -3.10078663e-01\n",
      " -1.21621800e+00  3.08834793e-01 -7.06928087e-01 -1.20751953e+00\n",
      "  3.40262841e-02  1.66030296e+00  7.36370556e-01  3.30384709e-01\n",
      " -4.37754894e-01  5.21670202e-01  3.12949941e-01 -6.37066488e-01\n",
      "  6.67178819e-01 -4.09858125e-01  8.53907727e-01  7.94180693e-01\n",
      "  7.78657772e-02 -3.38866195e-01  1.44684924e+00 -2.48683263e-01\n",
      "  7.64808191e-01  1.37732809e+00 -1.88164484e+00  8.43117175e-01\n",
      "  5.85406561e-01 -5.26693329e-01 -9.17503576e-01  9.36684622e-01\n",
      " -5.81109767e-01 -6.90032982e-01 -2.41707297e-01  9.60266527e-01\n",
      " -2.08798268e+00 -9.60032001e-01  1.07832485e+00 -5.09170672e-01\n",
      "  2.26913247e+00 -1.91644961e+00  6.04497490e-01 -5.35091208e-01\n",
      " -1.41010378e+00 -1.03998946e+00 -6.99176091e-01  1.29842815e-01\n",
      "  1.37824256e+00  1.26464604e-01 -6.33665203e-01  1.67196867e+00\n",
      "  1.98007779e+00 -1.90475996e+00 -1.85892023e-01  3.36886587e-01\n",
      "  1.24417492e+00 -1.89095673e+00 -1.74556172e+00  9.89739975e-01\n",
      " -1.21583326e-01  1.56904961e+00  1.29929834e+00  1.42570778e+00\n",
      " -4.92129570e-01  1.90571941e-01  1.24838388e+00 -1.55489241e-01\n",
      " -2.57057220e-01 -4.10863457e-01  2.92879623e-01  2.03513203e+00\n",
      "  1.07773421e+00  1.27367925e+00 -5.29142768e-01 -7.96636634e-01\n",
      " -1.01289427e+00 -8.40471855e-02  7.22024701e-01 -2.22450307e-01\n",
      "  1.24914230e-01  7.48278293e-01 -6.07825493e-01 -6.49417727e-01\n",
      " -5.67693522e-01  1.75590840e+00  8.04055168e-01  1.47615183e+00\n",
      " -1.15362155e+00  4.84587410e-01  6.41904615e-01 -2.83875209e+00\n",
      " -9.56972725e-02 -4.04066298e-01  2.88074073e-01  3.71212381e-01\n",
      "  1.31291768e+00  9.68815416e-01 -1.11322771e+00 -1.64965004e-01\n",
      "  1.40641888e+00  8.45374834e-01  5.98080058e-01 -1.80497786e+00\n",
      " -2.04992126e+00 -1.12964927e+00  7.21490831e-01  1.07117445e+00\n",
      " -8.72847663e-01  3.17664075e-01  2.49827042e-01 -8.48095831e-01\n",
      "  8.37075448e-01 -2.69814057e-01  5.03454444e-01 -8.22091281e-01\n",
      "  1.07217160e+00  2.08013949e-05 -1.85803751e+00  9.89384762e-01\n",
      " -1.61590234e-02 -1.25752985e-01  1.46817591e-01  1.33411915e+00\n",
      "  1.47169096e+00 -5.02748712e-01 -7.11437004e-01  6.79009725e-01\n",
      " -3.98323653e-01  1.45660914e+00 -1.86742315e+00  1.16370200e-02\n",
      " -3.61110113e-01 -9.94948846e-02  9.72212502e-01 -5.05024698e-01\n",
      " -4.25236087e-01 -8.06337159e-03  7.37385183e-01  3.29399687e-01\n",
      "  8.02725798e-01 -1.31848761e+00 -6.22209153e-01 -9.35800387e-01\n",
      " -6.62469811e-01 -1.29071183e+00  1.73274055e-01  7.24021020e-01\n",
      "  9.14124736e-01 -1.19651427e+00  9.00824919e-01  4.66842425e-01\n",
      "  3.07849993e-01  8.03603065e-01  2.84630322e+00 -3.65440553e-01\n",
      " -4.85996662e-01 -7.49096273e-02 -1.02434513e+00 -1.02075501e+00\n",
      " -4.27334895e-01 -9.11280826e-01 -4.82345036e-01 -6.56121025e-01\n",
      " -3.06259304e-01  2.48782117e+00 -7.44304955e-01  8.95552580e-02\n",
      "  1.18690352e+00 -8.63754714e-02  9.76090728e-01  1.48125277e-01\n",
      " -1.69795539e-01 -1.37567500e+00 -4.49022923e-02  2.69721556e-01\n",
      " -5.01172350e-01  7.53619116e-01 -4.02554693e-01  3.09592416e-01\n",
      "  1.86028001e-02 -8.79222234e-01 -1.92106857e+00  1.31613373e+00\n",
      "  2.98620861e-01  1.62121095e+00 -4.31932416e-01 -1.55896617e+00\n",
      " -3.06465311e-01 -5.16274082e-02 -9.38639327e-01 -1.51248243e-01\n",
      " -1.81976049e+00 -8.69718057e-01 -1.68232773e+00  2.63439726e-01\n",
      "  3.32806486e-01 -1.83055285e+00 -1.00779295e+00  6.03456519e-01\n",
      " -1.86445655e-01  6.14279664e-01 -3.60914363e-02  5.27572695e-01\n",
      "  3.37680657e-01 -7.62885539e-01 -2.56697204e-01 -1.20123397e+00\n",
      " -8.09330135e-01 -1.85896027e+00  3.42729852e-01  7.81959809e-01\n",
      "  8.92878960e-01  2.34416481e-01 -2.46509942e-02  9.77487255e-01\n",
      "  1.01496892e+00  4.24025908e-01  1.09534881e+00  1.10774515e+00\n",
      "  2.97578964e-01  1.40873026e+00 -8.34351558e-01  3.44241156e-02\n",
      "  2.28339158e-01 -8.45284698e-01  2.62334301e-01 -9.27541278e-01\n",
      " -5.54819992e-01 -4.00611277e-01  9.17011689e-01  2.92359634e-01\n",
      " -1.25884275e+00 -2.40812163e-02  1.42046054e-01  3.20257536e-01\n",
      " -1.00521599e+00  1.17970119e+00 -6.76486704e-01  9.44306366e-01\n",
      " -1.65307491e+00 -9.47776139e-01  9.48076006e-01 -1.11569092e+00\n",
      "  6.46509116e-01 -1.07120252e-01 -2.92760075e-01 -2.75510410e-01\n",
      " -2.00525596e-01 -7.42286192e-01 -3.43599672e-01  1.56381621e+00\n",
      " -5.64561743e-01 -5.15370251e-01 -3.80584802e-01 -1.12034611e+00\n",
      "  1.14909112e+00 -1.87687095e+00  7.79601448e-01  1.19274493e+00\n",
      "  2.83664394e-01 -9.64823794e-01  1.12057075e+00  1.79810172e+00\n",
      "  8.54608676e-02 -3.28858903e-01 -9.43967728e-01 -2.48271766e-01\n",
      " -4.78804597e-01  7.55653763e-01 -4.38636128e-01 -8.36936348e-01\n",
      " -3.93903810e-02  8.32642896e-01  6.69467927e-01 -9.02390402e-01\n",
      " -4.60037165e-01 -1.20670486e-02 -6.38089005e-01  1.66603348e-01\n",
      " -1.60335736e+00  5.99142926e-01 -7.63926499e-02 -3.02898807e-01\n",
      " -2.02113739e+00 -5.74068585e-01  2.34399934e-02 -1.02283754e+00\n",
      "  3.74940205e-01  1.24711488e+00  7.58387740e-01  7.11170722e-01\n",
      "  4.96270575e-01 -2.00090551e+00 -5.71782243e-01  9.39921875e-01\n",
      "  4.40259182e-01  6.48196176e-01 -2.07909386e+00  1.34302877e+00\n",
      " -7.45427576e-01 -1.57608427e+00  1.30963741e+00 -1.49440433e+00\n",
      "  2.86837108e-01  5.57593814e-01  6.55689851e-01 -1.99803595e+00\n",
      "  6.19218990e-01  1.01536283e-01  1.68084961e+00  8.88993392e-01\n",
      " -1.80875736e+00  8.24743228e-01 -5.02224489e-01  1.24475948e+00\n",
      " -8.89355327e-01  1.12244595e+00 -1.38853074e+00  1.52051221e+00\n",
      "  8.84733511e-01  6.49355362e-01 -7.47883940e-01  1.80136087e+00\n",
      " -5.20129678e-01 -3.14454962e-01 -1.16846986e+00  1.66592324e-01\n",
      " -2.99618564e-01 -5.30967849e-01 -1.97648609e-01 -5.67690052e-01\n",
      " -1.37047093e+00 -1.08112587e+00  8.90340711e-01  9.83544385e-01\n",
      "  1.10457597e+00  8.86463679e-01 -1.11996014e+00 -1.34181420e-02\n",
      " -7.15145648e-01 -1.09572909e-01  6.93030990e-01 -1.83665767e+00\n",
      "  2.05645937e+00  3.31779834e-02  2.25586389e-01 -1.03078673e+00\n",
      "  2.29986896e-01  1.56139948e+00  1.22201649e+00 -8.90617551e-01\n",
      "  3.59624599e-01  5.65107852e-01 -4.29385476e-01 -1.12782580e-01\n",
      " -3.43251199e-01  3.56548978e-01 -1.13937832e+00 -7.08005423e-01\n",
      "  2.40314287e-01  4.94548104e-01 -1.38418779e+00  6.31134246e-01\n",
      "  9.97125026e-02  1.02991898e-01  1.19608299e-01 -1.18886461e+00\n",
      "  1.74329392e-01  5.54603445e-02  1.67347769e+00  4.29771845e-01\n",
      "  7.43453951e-01 -4.54723488e-02 -9.93814133e-01 -4.56160463e-01\n",
      " -7.74541064e-01  2.31064254e-01  6.54470326e-01  1.13555072e-01\n",
      "  1.56501956e+00  1.13792666e-01  7.87221290e-01 -7.65110844e-01\n",
      "  1.26238378e+00  8.29521223e-01  8.25891362e-01 -1.07030524e-01\n",
      " -1.69537534e+00 -1.03068466e-01 -1.05733948e+00  8.03063772e-01\n",
      "  7.59493011e-01 -1.28739637e+00  1.20295207e+00 -2.31475882e-01\n",
      " -3.69301901e-01 -9.73370980e-01 -6.93118541e-01 -4.20036482e-01\n",
      " -3.06119851e-01  5.65144921e-01  1.51737855e+00  2.28921942e-01\n",
      "  7.99236641e-01 -1.62358979e+00 -6.09541296e-01 -1.94123568e-01\n",
      "  1.88083730e+00 -1.71538962e+00 -1.09887726e+00 -1.02259160e+00\n",
      "  3.54663788e-01  1.33348336e+00 -1.56265217e+00  1.13975306e+00\n",
      "  8.98921595e-02 -2.03758033e+00  7.39422295e-01 -1.28436248e+00\n",
      "  1.06219284e+00 -1.99006290e+00  8.33876371e-01 -3.96229757e-01\n",
      " -9.44886666e-01 -9.89287238e-01 -9.77619508e-02 -2.90842016e-02\n",
      "  9.19940654e-01 -9.35036461e-01 -2.46426633e-01  2.18498199e+00\n",
      " -1.11856230e+00  7.58078919e-02 -6.61274783e-01  9.84899024e-01\n",
      " -1.69624826e+00 -1.18945810e+00 -6.93987652e-01  2.45830126e+00\n",
      "  5.68436227e-01 -3.64229012e-02 -1.04295875e+00  2.98362103e-01\n",
      "  1.30114020e+00 -1.28935313e+00  1.43396436e+00 -6.37645731e-01\n",
      " -2.14622275e-01  7.24548318e-01  5.85195279e-01 -6.16824194e-01\n",
      "  3.44043986e-01 -1.00873365e+00 -9.65511737e-01 -4.65252858e-01\n",
      "  4.70805498e-01  1.85626864e-02  1.02176210e+00 -1.25383945e-01\n",
      " -8.27634587e-01  7.32852282e-01  8.30009849e-01  1.04000230e+00\n",
      "  1.98627995e+00  1.57428247e+00  1.61457778e+00 -2.92921825e-01\n",
      "  4.88919017e-01 -1.43971160e+00  2.20706126e-01  3.84880079e-01\n",
      "  4.73800219e-01  3.68060213e-01 -3.96779297e-01  1.22353627e+00\n",
      "  1.64264174e-01 -3.89292354e-01  1.40164315e+00 -1.04730630e-01\n",
      " -3.45598447e-01 -1.69734037e+00  2.27687571e+00  3.96401127e-01\n",
      " -4.84237541e-01  1.61289959e+00  1.41939959e+00  3.22544229e-01\n",
      " -2.79830626e-01 -4.32686616e-01 -6.74612064e-01 -2.20150109e+00\n",
      "  5.78395332e-01  2.43771181e-01  9.09359421e-01  3.37099092e-01\n",
      " -8.45905365e-01  1.45586778e+00  2.85052808e-01 -2.37006690e-01\n",
      " -2.91905671e+00 -7.18619754e-02 -1.12378393e-02 -8.52965829e-01\n",
      " -3.18694018e-01  2.04573768e-01 -2.21634649e-01  8.50676165e-01\n",
      "  6.04956728e-01 -1.95611708e+00  1.60824132e+00 -1.37710835e+00\n",
      " -2.00357235e+00 -1.67069816e-01 -1.18693587e+00 -8.85300892e-01\n",
      " -1.94348486e+00  6.72484544e-01  1.67083941e+00 -2.28274266e+00\n",
      " -1.40573594e-01 -9.30001034e-01 -3.38254557e-02 -9.31592373e-01\n",
      " -3.16984068e-01  8.35593279e-01 -2.55110199e-01 -9.87164688e-01\n",
      " -7.49235205e-01  1.01105678e+00 -1.32387398e+00  3.46374342e-01\n",
      " -5.92943027e-01  1.16394377e+00  3.62428048e-01  3.66309570e-01\n",
      "  9.15197642e-01 -3.36844560e-01  2.22719520e-01 -5.06672521e-01\n",
      " -1.05560659e+00 -1.12287619e-02 -1.27216316e-01  1.67389122e+00\n",
      " -1.17537887e+00  1.48883177e+00 -3.47026368e-01 -1.39672332e+00\n",
      "  1.57490672e+00  5.49889669e-01 -4.68315242e-01 -1.75675548e+00\n",
      "  6.03283091e-01  3.18079627e-01 -1.50323389e+00  8.73106566e-01\n",
      "  6.83202816e-01 -1.83135529e-01  9.75635412e-01 -2.66260570e-01\n",
      "  9.09409665e-01  2.90158815e-01 -1.09533210e+00 -8.85064874e-02\n",
      " -2.19741858e-01 -4.63278599e-01 -2.83187964e-01  1.44083331e-01\n",
      "  5.70771884e-02  1.96955512e-01  5.03601844e-01 -1.03848736e+00\n",
      "  1.26109658e+00  3.15012003e-01 -3.09482715e-01 -2.64460824e-02\n",
      " -1.14412521e+00 -3.43905168e-01  1.02437748e-01 -6.87560400e-01\n",
      " -1.06527593e+00  1.34131925e-01 -1.76791581e+00  7.03244579e-02\n",
      "  2.71158456e-01 -4.72337095e-01 -2.41417628e-01  4.67881527e-01\n",
      "  1.58190977e+00  2.47393365e-01 -3.14562514e-01 -3.19783865e-01\n",
      "  4.14009035e-02 -5.21056482e-02  1.39151486e+00  9.06646501e-01\n",
      "  9.29616533e-01  7.12048804e-02  2.42495602e-03  7.34432216e-02\n",
      " -3.61625475e-01 -1.30157830e-01 -9.06245322e-01  1.91067827e-01\n",
      "  1.14015528e+00 -6.56636267e-01 -8.39037646e-01  2.00975391e-01\n",
      " -2.03289635e-01  7.46403562e-01 -4.80207649e-01  1.00204201e-01\n",
      " -8.44267788e-01  1.35068000e+00  2.00924710e-02 -2.47475117e+00\n",
      " -9.03854565e-02  1.84828378e+00 -5.55080399e-01 -1.32324501e+00\n",
      "  6.35269271e-01 -1.29767489e+00 -1.57699586e-01  4.50671295e-01\n",
      " -2.26790669e-02 -4.08368857e-01  2.15448987e-01 -4.62988372e-01\n",
      "  1.30356124e+00  5.56786524e-01 -2.48608274e+00  1.73317669e+00\n",
      "  1.39317414e-01  1.05077138e+00  2.21581591e-02  2.80448673e-01\n",
      "  4.63185006e-01 -1.23025605e+00  1.04708655e+00 -9.98357666e-01\n",
      " -9.05985897e-01 -1.40219835e-01 -1.13784731e+00 -9.94960738e-02\n",
      "  1.81761373e-01  8.28135927e-01  3.18046823e-01  2.00164866e-01\n",
      " -1.12538346e-01 -1.49532919e+00  4.78813672e-01 -9.84613154e-01\n",
      " -4.01066569e-01  1.55499499e+00 -4.68412866e-01 -3.28089623e-01\n",
      " -9.56000959e-01  2.11568107e-01  3.68679826e-01  9.49819937e-01\n",
      " -1.09492029e+00 -1.47968143e-01  1.03189585e-01  4.11843945e-01\n",
      " -2.90242138e-01 -1.10480092e+00  1.74433492e-01  3.63842089e-01\n",
      " -1.98127019e+00  4.07438722e-01  5.32011472e-01  2.03688237e-01\n",
      " -1.77483798e+00  8.12190356e-01 -1.48194050e-01 -8.69982184e-01\n",
      "  4.36169828e-01 -9.32797578e-01  1.69697549e+00  1.17745103e-01\n",
      "  4.05796197e-01  1.06049305e+00  1.34914851e+00 -7.41732694e-01\n",
      " -1.81215147e+00 -8.37172276e-01 -2.18598091e+00 -2.00908144e+00\n",
      "  3.18502548e-01  1.17829122e+00  2.69188616e-01 -2.54149890e+00\n",
      " -8.89601378e-01 -9.69012633e-01  3.71772655e-01  7.85637350e-01\n",
      " -1.18389728e+00  1.62638048e+00  8.39444862e-02  4.17993575e-01\n",
      " -3.02586848e-02 -3.83884618e-01 -5.19361356e-01 -4.54872251e-01\n",
      " -8.82620558e-01  3.10566170e-02  1.15830562e-01  1.39036777e-02\n",
      "  1.23342757e+00 -1.13632104e+00 -8.24835386e-01  1.60337610e+00\n",
      " -5.96453945e-01 -2.34213980e-02  2.41539557e+00 -1.11843723e+00\n",
      " -1.04921432e+00  2.34376767e+00 -6.84310258e-01 -4.90789088e-01\n",
      " -3.53793684e-01 -5.72631934e-01  5.19446879e-01  1.38221660e-01\n",
      "  5.68036000e-01  8.14730728e-01  6.49725781e-01  2.06638895e-01\n",
      "  7.67062272e-01  4.42693772e-01  9.60993383e-03 -1.03946427e+00\n",
      "  1.50825144e-01  8.18435535e-02  9.04661880e-01 -1.54315280e-01\n",
      " -4.49890246e-01  4.19260058e-01  1.96760007e-01  7.66999058e-02]\n"
     ]
    }
   ],
   "source": [
    "print(\"Fith Array:\",Array_5)"
   ]
  },
  {
   "cell_type": "code",
   "execution_count": 8,
   "metadata": {},
   "outputs": [
    {
     "data": {
      "image/png": "[encoded data removed]",
      "text/plain": [
       "<Figure size 432x288 with 1 Axes>"
      ]
     },
     "metadata": {
      "needs_background": "light"
     },
     "output_type": "display_data"
    }
   ],
   "source": [
    "# Show some histograms of data for some of arrays\n",
    "Hist_Array_5 = np.random.randn(1000)\n",
    "plt.hist(Hist_Array_5, bins=20)\n",
    "plt.show()"
   ]
  },
  {
   "cell_type": "code",
   "execution_count": 9,
   "metadata": {},
   "outputs": [
    {
     "name": "stdout",
     "output_type": "stream",
     "text": [
      "                 0\n",
      "count  1000.000000\n",
      "mean     -0.024957\n",
      "std       0.975778\n",
      "min      -3.397488\n",
      "25%      -0.712138\n",
      "50%       0.013457\n",
      "75%       0.613077\n",
      "max       2.610406\n"
     ]
    }
   ],
   "source": [
    "# Build a data frame and some some stats through describe function\n",
    "\n",
    "df_3 = pd.DataFrame(Hist_Array_5)\n",
    "print(df_3.describe())"
   ]
  },
  {
   "cell_type": "markdown",
   "metadata": {},
   "source": [
    "From histogram you can claerly see a diffrence in use of this function in producin a bell shaped curve which suggests that data is following normal distribution."
   ]
  },
  {
   "cell_type": "markdown",
   "metadata": {},
   "source": [
    "# numpy.random.randint function\n",
    "\n",
    "It returns an array of specified shape and fills it with random integers from low (inclusive) to high (exclusive), i.e. in the interval (low, high)."
   ]
  },
  {
   "cell_type": "code",
   "execution_count": 10,
   "metadata": {},
   "outputs": [
    {
     "name": "stdout",
     "output_type": "stream",
     "text": [
      "Sixth Array: 575\n",
      "Seventh Array: 356\n",
      "Eight Array: 168\n",
      "Ningth Array: 4\n"
     ]
    }
   ],
   "source": [
    "Array_6 = np.random.randint(1000)\n",
    "print(\"Sixth Array:\",Array_6)\n",
    "Array_7 = np.random.randint(1000)\n",
    "print(\"Seventh Array:\",Array_7)\n",
    "Array_8 = np.random.randint(100, high=200)\n",
    "print(\"Eight Array:\",Array_8)\n",
    "Array_9 = np.random.randint(1, high=5)\n",
    "print(\"Ningth Array:\",Array_9)"
   ]
  },
  {
   "cell_type": "markdown",
   "metadata": {},
   "source": [
    "# numpy.random.random_sample function"
   ]
  },
  {
   "cell_type": "code",
   "execution_count": 11,
   "metadata": {},
   "outputs": [
    {
     "name": "stdout",
     "output_type": "stream",
     "text": [
      "Tenth Array: [0.4756417  0.08714392 0.68462738 0.45443385 0.22995969 0.32546214\n",
      " 0.22719179 0.67893153 0.10583097 0.2209202  0.55337563 0.76868075\n",
      " 0.48171803 0.10151242 0.91500085 0.51678707 0.51446464 0.13345934\n",
      " 0.40655948 0.73732278 0.61970972 0.43898531 0.55915987 0.6105948\n",
      " 0.22768134 0.40168176 0.17022643 0.08381487 0.73451472 0.16346007\n",
      " 0.32613785 0.12565273 0.84154475 0.48679233 0.1172065  0.32010145\n",
      " 0.58707433 0.71274672 0.01243574 0.58689254 0.11554324 0.73910052\n",
      " 0.17933018 0.48480777 0.05156133 0.15101532 0.19282727 0.31792022\n",
      " 0.98173853 0.89677734]\n",
      "Array 11: [[0.83985752 0.64117908]\n",
      " [0.67072318 0.33409617]\n",
      " [0.86593117 0.23852985]\n",
      " [0.65265006 0.90223047]\n",
      " [0.62957585 0.74339316]\n",
      " [0.54942446 0.63766598]\n",
      " [0.77373395 0.33131592]\n",
      " [0.01432541 0.97025169]\n",
      " [0.95740092 0.58796244]\n",
      " [0.64063911 0.81846025]\n",
      " [0.64233281 0.33690465]\n",
      " [0.7160488  0.93624934]\n",
      " [0.5590402  0.43755366]\n",
      " [0.39864529 0.97277265]\n",
      " [0.26133773 0.93779633]]\n"
     ]
    }
   ],
   "source": [
    "Array_10 = np.random.random_sample((50,))\n",
    "print(\"Tenth Array:\",Array_10)\n",
    "Array_11 = np.random.random_sample((15,2))\n",
    "print(\"Array 11:\",Array_11)"
   ]
  },
  {
   "cell_type": "markdown",
   "metadata": {},
   "source": [
    "# numpy.random.choice function"
   ]
  },
  {
   "cell_type": "code",
   "execution_count": 12,
   "metadata": {},
   "outputs": [
    {
     "name": "stdout",
     "output_type": "stream",
     "text": [
      "Array 12: Hannah\n",
      "Array 13: Adam\n",
      "Array 14: ['Grace' 'Grace' 'Ross']\n"
     ]
    }
   ],
   "source": [
    "Names = ['Hannah', 'Grace','Adam', 'Trina','Ross']\n",
    "\n",
    "Array_12 = np.random.choice(Names)\n",
    "print(\"Array 12:\",Array_12)\n",
    "Array_13 = np.random.choice(Names)\n",
    "print(\"Array 13:\",Array_13)\n",
    "Array_14 = np.random.choice(Names, size=3)\n",
    "print(\"Array 14:\",Array_14)"
   ]
  },
  {
   "cell_type": "markdown",
   "metadata": {},
   "source": [
    "# numpy.random.random_integers function"
   ]
  },
  {
   "cell_type": "code",
   "execution_count": 24,
   "metadata": {},
   "outputs": [
    {
     "name": "stdout",
     "output_type": "stream",
     "text": [
      "6\n"
     ]
    }
   ],
   "source": [
    "int_1 = np.random.randint(10)\n",
    "print(int_1)"
   ]
  },
  {
   "cell_type": "code",
   "execution_count": 26,
   "metadata": {},
   "outputs": [
    {
     "name": "stdout",
     "output_type": "stream",
     "text": [
      "[[1 0]\n",
      " [5 4]\n",
      " [1 5]\n",
      " [4 7]\n",
      " [6 0]]\n"
     ]
    }
   ],
   "source": [
    "int_2 = np.random.randint(10, size=(5,2))\n",
    "print(int_2)"
   ]
  },
  {
   "cell_type": "markdown",
   "metadata": {},
   "source": [
    "# Permutations"
   ]
  },
  {
   "cell_type": "markdown",
   "metadata": {},
   "source": [
    "# numpy.random.shuffle function"
   ]
  },
  {
   "cell_type": "code",
   "execution_count": 13,
   "metadata": {},
   "outputs": [
    {
     "name": "stdout",
     "output_type": "stream",
     "text": [
      "Shuffle 1: [ 3 51  2 15 91 14  7  6 95 63 60 35  4 38 65  8 28 48 68 55 87 80 61  9\n",
      " 53 79 27 73  1 31 46 42 30 18 12 13 36 85 93 40 94 69 56 11 26 19 70 71\n",
      " 52  0 47 21 20 41 72 67 43 88 32 54 76 34 49 92 24 64 75 50 89 66 78 23\n",
      " 98 10 59 90 81 58 86  5 83 45 97 17 62 16 96 57 74 25 39 84 29 22 82 37\n",
      " 44 77 99 33]\n",
      "Shuffle 2: [ 2 36 23 28 42 11 72 43 20 48 64 47 67  7 84 66 31  1 68 91 33 90 83 51\n",
      " 61 55 32 14 38 45 35 16 13 22 24 95 29 15 50 30 52 46 57 40 54 25 41 53\n",
      " 44 65 60 12 18 62 37  5 88  8 34 96 59  3 79 39 93  4 49 85  6 99 98 69\n",
      " 63 27 77 17 82 56 26 86 19 81 94 92 87 71 70 73 58 21 80 76 89 75 78 10\n",
      " 97  9 74  0]\n"
     ]
    }
   ],
   "source": [
    "arr_1 = np.arange(100)\n",
    "np.random.shuffle(arr_1)\n",
    "print('Shuffle 1:',arr_1)\n",
    "\n",
    "arr_2 = np.arange(100)\n",
    "np.random.shuffle(arr_2)\n",
    "print('Shuffle 2:',arr_2)"
   ]
  },
  {
   "cell_type": "markdown",
   "metadata": {},
   "source": [
    " # numpy.random.permutation function"
   ]
  },
  {
   "cell_type": "code",
   "execution_count": 14,
   "metadata": {},
   "outputs": [
    {
     "name": "stdout",
     "output_type": "stream",
     "text": [
      "Permutation 1: ['Grace' 'Hannah' 'Trina' 'Ross' 'Adam']\n",
      "Permutation 2: ['Trina' 'Adam' 'Grace' 'Hannah' 'Ross']\n"
     ]
    }
   ],
   "source": [
    "Names = ['Ross', 'Hannah', 'Grace','Adam','Trina']\n",
    "\n",
    "Names_1 = np.random.permutation(Names)\n",
    "print('Permutation 1:',Names_1)\n",
    "Names_2 = np.random.permutation(Names)\n",
    "print('Permutation 2:',Names_2)"
   ]
  },
  {
   "cell_type": "markdown",
   "metadata": {},
   "source": [
    "# Distributions"
   ]
  },
  {
   "cell_type": "code",
   "execution_count": 27,
   "metadata": {},
   "outputs": [
    {
     "name": "stderr",
     "output_type": "stream",
     "text": [
      "C:\\Users\\hunterd\\AppData\\Local\\Continuum\\anaconda3\\lib\\site-packages\\matplotlib\\axes\\_axes.py:6521: MatplotlibDeprecationWarning: \n",
      "The 'normed' kwarg was deprecated in Matplotlib 2.1 and will be removed in 3.1. Use 'density' instead.\n",
      "  alternative=\"'density'\", removal=\"3.1\")\n"
     ]
    },
    {
     "data": {
      "image/png": "[encoded data removed]",
      "text/plain": [
       "<Figure size 432x288 with 1 Axes>"
      ]
     },
     "metadata": {
      "needs_background": "light"
     },
     "output_type": "display_data"
    },
    {
     "data": {
      "image/png": "[encoded data removed]",
      "text/plain": [
       "<Figure size 432x288 with 1 Axes>"
      ]
     },
     "metadata": {
      "needs_background": "light"
     },
     "output_type": "display_data"
    },
    {
     "data": {
      "image/png": "[encoded data removed]",
      "text/plain": [
       "<Figure size 432x288 with 1 Axes>"
      ]
     },
     "metadata": {
      "needs_background": "light"
     },
     "output_type": "display_data"
    },
    {
     "data": {
      "image/png": "[encoded data removed]",
      "text/plain": [
       "<Figure size 432x288 with 1 Axes>"
      ]
     },
     "metadata": {
      "needs_background": "light"
     },
     "output_type": "display_data"
    },
    {
     "data": {
      "image/png": "[encoded data removed]",
      "text/plain": [
       "<Figure size 432x288 with 1 Axes>"
      ]
     },
     "metadata": {
      "needs_background": "light"
     },
     "output_type": "display_data"
    }
   ],
   "source": [
    "# Normal Distribution\n",
    "\n",
    "mu, sigma = 0, 0.1 \n",
    "\n",
    "s = np.random.normal(mu, sigma, 1000)\n",
    "\n",
    "count, bins, ignored = plt.hist(s, 50, normed=True)\n",
    "plt.plot(bins, 1/(sigma * np.sqrt(2 * np.pi)) *\n",
    "np.exp( - (bins - mu)**2 / (2 * sigma**2) ),\n",
    "linewidth=2, color='g')\n",
    "plt.title('Normal Distribution')\n",
    "plt.show()\n",
    "\n",
    "# Rayleigh Distribution\n",
    "\n",
    "ray = np.random.rayleigh(3, 100000)\n",
    "plt.hist(ray,bins = 50)\n",
    "plt.title('Rayleigh Distribution')\n",
    "plt.show()\n",
    "\n",
    "# Triangular Distribution\n",
    "\n",
    "Tri = np.random.triangular(-3, 0, 8, 100000)\n",
    "plt.hist(Tri,bins = 50,normed=True)\n",
    "plt.title('Triangular Distribution')\n",
    "plt.show()\n",
    "\n",
    "# Poisson Distribution\n",
    "\n",
    "Poi = np.random.poisson(5, 10000)\n",
    "plt.hist(Poi,bins = 50,normed=True)\n",
    "plt.title('Poisson Distribution')\n",
    "plt.show()\n",
    "\n",
    "# Gamma Distribution\n",
    "\n",
    "shape, scale = 2., 2.  # mean=4, std=2*sqrt(2)\n",
    "s = np.random.gamma(shape, scale, 1000)\n",
    "\n",
    "count, bins, ignored = plt.hist(s, 50, normed=True)\n",
    "y = bins**(shape-1)*(np.exp(-bins/scale) /\n",
    "(sps.gamma(shape)*scale**shape))\n",
    "plt.plot(bins, y, linewidth=2, color='g')\n",
    "plt.title('Gamma Distribution')\n",
    "plt.show()\n"
   ]
  },
  {
   "cell_type": "markdown",
   "metadata": {},
   "source": [
    "# Seeds"
   ]
  },
  {
   "cell_type": "code",
   "execution_count": 16,
   "metadata": {},
   "outputs": [
    {
     "name": "stdout",
     "output_type": "stream",
     "text": [
      "Seed 1: [0.4359949  0.02592623 0.54966248 0.43532239 0.4203678  0.33033482\n",
      " 0.20464863 0.61927097 0.29965467 0.26682728]\n"
     ]
    }
   ],
   "source": [
    "np.random.seed (2)\n",
    "\n",
    "Seed_1 = np.random.rand(10)\n",
    "print('Seed 1:',Seed_1)"
   ]
  },
  {
   "cell_type": "code",
   "execution_count": 17,
   "metadata": {},
   "outputs": [
    {
     "name": "stdout",
     "output_type": "stream",
     "text": [
      "Seed 2: [0.4359949  0.02592623 0.54966248 0.43532239 0.4203678  0.33033482\n",
      " 0.20464863 0.61927097 0.29965467 0.26682728]\n"
     ]
    }
   ],
   "source": [
    "np.random.seed (2)\n",
    "\n",
    "Seed_2 = np.random.rand(10)\n",
    "print('Seed 2:',Seed_2)"
   ]
  },
  {
   "cell_type": "code",
   "execution_count": 18,
   "metadata": {},
   "outputs": [
    {
     "name": "stdout",
     "output_type": "stream",
     "text": [
      "Seed 3: [0.5507979  0.70814782 0.29090474 0.51082761 0.89294695 0.89629309\n",
      " 0.12558531 0.20724288 0.0514672  0.44080984]\n"
     ]
    }
   ],
   "source": [
    "np.random.seed (3)\n",
    "\n",
    "Seed_3 = np.random.rand(10)\n",
    "print('Seed 3:',Seed_3)"
   ]
  },
  {
   "cell_type": "code",
   "execution_count": 19,
   "metadata": {},
   "outputs": [
    {
     "name": "stdout",
     "output_type": "stream",
     "text": [
      "Seed 4: [0.5507979  0.70814782 0.29090474 0.51082761 0.89294695 0.89629309\n",
      " 0.12558531 0.20724288 0.0514672  0.44080984]\n"
     ]
    }
   ],
   "source": [
    "np.random.seed (3)\n",
    "\n",
    "Seed_4 = np.random.rand(10)\n",
    "print('Seed 4:',Seed_4)"
   ]
  },
  {
   "cell_type": "markdown",
   "metadata": {},
   "source": [
    "# References"
   ]
  },
  {
   "cell_type": "markdown",
   "metadata": {},
   "source": [
    "1. https://docs.scipy.org/doc/numpy-1.14.0/reference/routines.random.html\n",
    "2. https://www.datacamp.com/community/tutorials/probability-distributions-python\n",
    "3. https://realpython.com/python-random/\n",
    "4. https://en.wikipedia.org/wiki/Mersenne_Twister\n",
    "5. https://onlinecoursetutorials.com/numpy/numpy-random-rand-in-python\n",
    "6. https://www.geeksforgeeks.org/numpy-random-randn-python\n",
    "7. https://www.geeksforgeeks.org/random-sampling-in-numpy-randint-function"
   ]
  },
  {
   "cell_type": "code",
   "execution_count": null,
   "metadata": {},
   "outputs": [],
   "source": []
  }
 ],
 "metadata": {
  "kernelspec": {
   "display_name": "Python 3",
   "language": "python",
   "name": "python3"
  },
  "language_info": {
   "codemirror_mode": {
    "name": "ipython",
    "version": 3
   },
   "file_extension": ".py",
   "mimetype": "text/x-python",
   "name": "python",
   "nbconvert_exporter": "python",
   "pygments_lexer": "ipython3",
   "version": "3.7.1"
  }
 },
 "nbformat": 4,
 "nbformat_minor": 2
}
