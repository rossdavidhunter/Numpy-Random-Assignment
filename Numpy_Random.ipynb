{
 "cells": [
  {
   "cell_type": "markdown",
   "metadata": {},
   "source": [
    "# Numpy Random Assignment 2019"
   ]
  },
  {
   "cell_type": "code",
   "execution_count": 1,
   "metadata": {},
   "outputs": [],
   "source": [
    "import numpy as np\n",
    "import matplotlib.pyplot as plt\n",
    "import pandas as pd\n",
    "%matplotlib inline"
   ]
  },
  {
   "cell_type": "markdown",
   "metadata": {},
   "source": [
    "# Simple Random Data\n",
    "\n",
    "This section will use serveral functions that will be used to generated random data."
   ]
  },
  {
   "cell_type": "markdown",
   "metadata": {},
   "source": [
    "# numpy.random.rand function"
   ]
  },
  {
   "cell_type": "code",
   "execution_count": 8,
   "metadata": {},
   "outputs": [],
   "source": [
    "Array_1 = np.random.rand(10)\n",
    "Array_2 = np.random.rand(10)\n",
    "Array_3 = np.random.rand(2,10)\n",
    "Array_4 = np.random.rand(2,10)"
   ]
  },
  {
   "cell_type": "code",
   "execution_count": 9,
   "metadata": {},
   "outputs": [
    {
     "name": "stdout",
     "output_type": "stream",
     "text": [
      "First Array: [0.92338197 0.42399985 0.04385219 0.63955312 0.90471613 0.33572998\n",
      " 0.49541067 0.20898963 0.96817223 0.93496107]\n",
      "Second Array: [0.38483223 0.55214066 0.10367564 0.55433908 0.95528319 0.23830272\n",
      " 0.03040794 0.03785142 0.70164107 0.00123931]\n",
      "Third Array: [[0.19516633 0.5926936  0.70891783 0.29013728 0.66199284 0.35996053\n",
      "  0.67458025 0.3344632  0.26105123 0.88128843]\n",
      " [0.52180002 0.15412978 0.24043053 0.72906469 0.99760436 0.88610833\n",
      "  0.88715948 0.72757452 0.11660875 0.74918894]]\n",
      "Fourth Array: [[0.70220062 0.48136556 0.0139605  0.52322764 0.69686116 0.41404237\n",
      "  0.02701974 0.33658801 0.27059265 0.86352014]\n",
      " [0.63180046 0.56938512 0.98716919 0.5479657  0.80497146 0.83390373\n",
      "  0.40222592 0.49417525 0.52607728 0.45844546]]\n"
     ]
    }
   ],
   "source": [
    "print(\"First Array:\",Array_1)\n",
    "print(\"Second Array:\",Array_2)\n",
    "print(\"Third Array:\",Array_3)\n",
    "print(\"Fourth Array:\",Array_4)"
   ]
  },
  {
   "cell_type": "code",
   "execution_count": 13,
   "metadata": {},
   "outputs": [
    {
     "data": {
      "image/png": "[encoded data removed]",
      "text/plain": [
       "<Figure size 432x288 with 1 Axes>"
      ]
     },
     "metadata": {
      "needs_background": "light"
     },
     "output_type": "display_data"
    },
    {
     "data": {
      "image/png": "[encoded data removed]",
      "text/plain": [
       "<Figure size 432x288 with 1 Axes>"
      ]
     },
     "metadata": {
      "needs_background": "light"
     },
     "output_type": "display_data"
    }
   ],
   "source": [
    "# Show some histograms of data for some of arrays\n",
    "Hist_Array_1 = np.random.rand(1000)\n",
    "plt.hist(Hist_Array_1, bins=20)\n",
    "plt.show()\n",
    "Hist_Array_2 = np.random.rand(1000)\n",
    "plt.hist(Hist_Array_2, bins=20)\n",
    "plt.show()"
   ]
  },
  {
   "cell_type": "code",
   "execution_count": 18,
   "metadata": {},
   "outputs": [
    {
     "name": "stdout",
     "output_type": "stream",
     "text": [
      "                 0\n",
      "count  1000.000000\n",
      "mean      0.487802\n",
      "std       0.284134\n",
      "min       0.001174\n",
      "25%       0.228812\n",
      "50%       0.480302\n",
      "75%       0.730480\n",
      "max       0.998919\n"
     ]
    }
   ],
   "source": [
    "# Build a data frame and some some stats through describe function\n",
    "\n",
    "df_1 = pd.DataFrame(Hist_Array_1)\n",
    "print(df_1.describe())"
   ]
  },
  {
   "cell_type": "code",
   "execution_count": null,
   "metadata": {},
   "outputs": [],
   "source": []
  }
 ],
 "metadata": {
  "kernelspec": {
   "display_name": "Python 3",
   "language": "python",
   "name": "python3"
  },
  "language_info": {
   "codemirror_mode": {
    "name": "ipython",
    "version": 3
   },
   "file_extension": ".py",
   "mimetype": "text/x-python",
   "name": "python",
   "nbconvert_exporter": "python",
   "pygments_lexer": "ipython3",
   "version": "3.7.1"
  }
 },
 "nbformat": 4,
 "nbformat_minor": 2
}
