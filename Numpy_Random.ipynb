{
 "cells": [
  {
   "cell_type": "markdown",
   "metadata": {},
   "source": [
    "# Numpy Random Assignment 2019"
   ]
  },
  {
   "cell_type": "markdown",
   "metadata": {},
   "source": [
    "The following assignment concerns the numpy.random package in Python. A Jupyter notebook was created explaining the use of the package, including detailed explanations of at least five of the distributions provided for in the package.\n",
    "\n",
    "There are four distinct tasks carried out in this Jupyter notebook:\n",
    "\n",
    "1. Explain the overall purpose of the package.\n",
    "2. Explain the use of the “Simple random data” and “Permutations” functions.\n",
    "3. Explain the use and purpose of at least five “Distributions” functions.\n",
    "4. Explain the use of seeds in generating pseudorandom numbers."
   ]
  },
  {
   "cell_type": "code",
   "execution_count": 1,
   "metadata": {},
   "outputs": [],
   "source": [
    "import numpy as np\n",
    "import matplotlib.pyplot as plt\n",
    "import pandas as pd\n",
    "import scipy.special as sps\n",
    "%matplotlib inline"
   ]
  },
  {
   "cell_type": "markdown",
   "metadata": {},
   "source": [
    "# Use of Numpy.Random Package\n",
    "\n",
    "Most random data generated with Python is not fully random in the scientific sense of the word. Rather, it is pseudorandom: generated with a pseudorandom number generator (PRNG), which is essentially any algorithm for generating seemingly random but still reproducible data.\n",
    "Probably the most widely known tool for generating random data in Python is its numpy.random module, which uses the Mersenne Twister PRNG algorithm as its core generator.The Mersenne Twister is a pseudorandom number generator (PRNG). It is by far the most widely used general-purpose PRNG. Its name derives from the fact that its period length is chosen to be a Mersenne prime."
   ]
  },
  {
   "cell_type": "markdown",
   "metadata": {},
   "source": [
    "# Simple Random Data\n",
    "\n",
    "This section will use serveral functions that will be used to generated random data. See examples below."
   ]
  },
  {
   "cell_type": "markdown",
   "metadata": {},
   "source": [
    "# numpy.random.rand function\n",
    "\n",
    "This function returns Random values in a given shape. It creates an array of the given shape and populates it with random samples from a uniform distribution over [0,1]. The dimensions of the returned array, should all be positive. If no argument is given a single Python float is returned."
   ]
  },
  {
   "cell_type": "code",
   "execution_count": 2,
   "metadata": {},
   "outputs": [],
   "source": [
    "# give variable name\n",
    "\n",
    "Array_1 = np.random.rand(10)\n",
    "Array_2 = np.random.rand(10)\n",
    "Array_3 = np.random.rand(2,10)\n",
    "Array_4 = np.random.rand(2,10)"
   ]
  },
  {
   "cell_type": "code",
   "execution_count": 3,
   "metadata": {},
   "outputs": [
    {
     "name": "stdout",
     "output_type": "stream",
     "text": [
      "First Array: [0.99515307 0.15901096 0.97131815 0.2817564  0.19584324 0.92895286\n",
      " 0.97400764 0.33277521 0.0991554  0.76400928]\n",
      "Second Array: [0.66470256 0.60045359 0.29016515 0.35897529 0.9444389  0.22247903\n",
      " 0.19481404 0.61160179 0.00257578 0.9119222 ]\n",
      "Third Array: [[0.96381699 0.85652338 0.41595221 0.40042803 0.50729389 0.16900796\n",
      "  0.57563598 0.04207205 0.34674212 0.08588369]\n",
      " [0.47361229 0.02785317 0.89385541 0.01440653 0.64441555 0.37508559\n",
      "  0.43205206 0.49065673 0.80478465 0.54468197]]\n",
      "Fourth Array: [[0.4543762  0.63444922 0.55419244 0.54788083 0.3903581  0.41864122\n",
      "  0.3671595  0.78176797 0.01799718 0.10084234]\n",
      " [0.10987736 0.40349798 0.84300463 0.59137977 0.29709512 0.12960875\n",
      "  0.87387921 0.80438936 0.59500262 0.46695432]]\n"
     ]
    }
   ],
   "source": [
    "# use of print function to see output\n",
    "\n",
    "print(\"First Array:\",Array_1)\n",
    "print(\"Second Array:\",Array_2)\n",
    "print(\"Third Array:\",Array_3)\n",
    "print(\"Fourth Array:\",Array_4)"
   ]
  },
  {
   "cell_type": "markdown",
   "metadata": {},
   "source": [
    "You will see from above array outputs the sequence in a random fashion."
   ]
  },
  {
   "cell_type": "code",
   "execution_count": 4,
   "metadata": {},
   "outputs": [
    {
     "data": {
      "image/png": "[encoded data removed]",
      "text/plain": [
       "<Figure size 432x288 with 1 Axes>"
      ]
     },
     "metadata": {
      "needs_background": "light"
     },
     "output_type": "display_data"
    },
    {
     "data": {
      "image/png": "[encoded data removed]",
      "text/plain": [
       "<Figure size 432x288 with 1 Axes>"
      ]
     },
     "metadata": {
      "needs_background": "light"
     },
     "output_type": "display_data"
    },
    {
     "data": {
      "image/png": "[encoded data removed]",
      "text/plain": [
       "<Figure size 432x288 with 1 Axes>"
      ]
     },
     "metadata": {
      "needs_background": "light"
     },
     "output_type": "display_data"
    },
    {
     "data": {
      "image/png": "[encoded data removed]",
      "text/plain": [
       "<Figure size 432x288 with 1 Axes>"
      ]
     },
     "metadata": {
      "needs_background": "light"
     },
     "output_type": "display_data"
    }
   ],
   "source": [
    "# Show some histograms of data for some of arrays\n",
    "\n",
    "Hist_Array_1 = np.random.rand(1000)\n",
    "plt.hist(Hist_Array_1, bins=20)\n",
    "plt.show()\n",
    "Hist_Array_2 = np.random.rand(1000)\n",
    "plt.hist(Hist_Array_2, bins=20)\n",
    "plt.show()\n",
    "\n",
    "# change in bin number to show differences\n",
    "\n",
    "Hist_Array_1 = np.random.rand(1000)\n",
    "plt.hist(Hist_Array_1, bins=100)\n",
    "plt.show()\n",
    "Hist_Array_2 = np.random.rand(1000)\n",
    "plt.hist(Hist_Array_2, bins=100)\n",
    "plt.show()"
   ]
  },
  {
   "cell_type": "markdown",
   "metadata": {},
   "source": [
    "Use of histogarms shows slight diffrences that can be more visual when increasing bin numbers."
   ]
  },
  {
   "cell_type": "code",
   "execution_count": 5,
   "metadata": {},
   "outputs": [
    {
     "name": "stdout",
     "output_type": "stream",
     "text": [
      "                 0\n",
      "count  1000.000000\n",
      "mean      0.493818\n",
      "std       0.288078\n",
      "min       0.005072\n",
      "25%       0.251934\n",
      "50%       0.489052\n",
      "75%       0.745863\n",
      "max       0.999556\n",
      "                 0\n",
      "count  1000.000000\n",
      "mean      0.492971\n",
      "std       0.289990\n",
      "min       0.000970\n",
      "25%       0.242463\n",
      "50%       0.484074\n",
      "75%       0.742515\n",
      "max       0.999223\n"
     ]
    }
   ],
   "source": [
    "# Build a data frame and some some stats through describe function\n",
    "\n",
    "df_1 = pd.DataFrame(Hist_Array_1)\n",
    "print(df_1.describe())\n",
    "df_2 = pd.DataFrame(Hist_Array_2)\n",
    "print(df_2.describe())"
   ]
  },
  {
   "cell_type": "markdown",
   "metadata": {},
   "source": [
    "Along with histograms the use of data frame to see some statistics also show slight differences between the 2 arrays."
   ]
  },
  {
   "cell_type": "markdown",
   "metadata": {},
   "source": [
    "# numpy.random.randn function\n",
    "\n",
    "If positive arguments are provided, randn generates an array of shape (d0, d1, …, dn), filled with random floats sampled from a univariate “normal” (Gaussian) distribution of mean 0 and variance 1 (if any of the d_i are floats, they are first converted to integers by truncation)."
   ]
  },
  {
   "cell_type": "code",
   "execution_count": 6,
   "metadata": {},
   "outputs": [],
   "source": [
    "Array_5 = np.random.randn(500)"
   ]
  },
  {
   "cell_type": "code",
   "execution_count": 7,
   "metadata": {},
   "outputs": [
    {
     "name": "stdout",
     "output_type": "stream",
     "text": [
      "Fith Array: [-0.44783588  0.00529382  0.18120256  0.3489532   1.58432332  0.16596857\n",
      "  1.61652396 -0.69371406 -1.01994155  1.00260875  0.09435793 -1.42485318\n",
      "  0.50129901  0.37935     0.38861554 -0.02182411 -0.64924673  0.6257396\n",
      "  0.05000403 -1.31186018 -0.5491204  -0.12983449  0.38913545 -0.86333314\n",
      " -0.0842288  -0.66274065  0.27998022 -0.69077244 -0.60294587  1.74194486\n",
      "  2.28047134 -0.36830292  0.26219606 -1.19754296 -1.83707735  0.61022291\n",
      " -1.24766589  0.17464379  0.60951856 -1.10803698  0.69748066 -0.85712926\n",
      " -0.21854456  1.6188695   0.14528186  0.37636717  0.06000989 -1.94018714\n",
      "  0.8718539   1.60803065  0.60414015 -1.51384789  0.24298176 -1.08247749\n",
      "  0.08016587 -0.76104838 -0.36479953 -0.27888961  1.35403159  0.34525366\n",
      " -0.66225681  0.12425853  0.71249045 -0.29491314 -0.82997768 -0.75434076\n",
      " -0.02939875  0.5000706   0.35064041  0.20813718  1.5484545  -1.04434071\n",
      " -1.19857529 -0.58490545  2.05047907  0.88920803  0.95709281 -0.21369695\n",
      "  0.07136673  0.96085844 -0.26287991  0.38010706  1.94136181 -2.03393856\n",
      " -0.36561558  1.24016172  1.53151243  0.65472351 -1.43418718 -0.41225981\n",
      " -2.40357382 -0.78003231 -0.31391802  0.24945745 -1.64381679 -1.58612361\n",
      " -1.33494614 -0.94485621 -1.1714595  -0.3849697   0.46577828  1.46373174\n",
      "  0.32375024  0.01852151  1.51067617 -2.67092593 -0.85437685  0.76811224\n",
      " -0.45369713 -0.89586583  0.36521199  0.42129771  0.43300312 -0.55699374\n",
      " -0.13325728  0.38369098  0.33793724 -2.41794801  0.47977735  1.38758158\n",
      " -1.8790527   0.94873871 -0.15525413  0.12590763  0.12204131  0.596794\n",
      "  1.70944913 -1.74104961  0.91541705 -0.05165626 -1.90351405 -1.02072926\n",
      "  0.27888881 -0.30431375 -0.29083129 -0.37143198  1.38123383  1.12101609\n",
      "  0.60159941  0.97154162  1.29845552  0.27545099 -0.13248721  1.60245509\n",
      " -0.29834236 -0.19015443 -1.70493787 -0.26979586 -0.26022767  0.47835884\n",
      "  0.38062966 -1.19901113  0.76991778  1.79222896 -0.07872331  0.69336797\n",
      "  0.17581584 -1.15983163 -0.37559216 -1.44383308  0.88515984  0.77393064\n",
      " -0.22810348 -1.45582082 -0.54235187  0.54843043  1.3626677  -1.07100619\n",
      " -0.42538991  2.11034398  0.59037794 -0.08618478  1.02988438  1.04532227\n",
      " -0.39232622  1.23575661  0.4203882   0.15274491 -0.22878648 -1.57666963\n",
      "  1.55441958 -0.05428462  0.16606342 -1.27197621  0.32091531  0.28232247\n",
      "  1.94664955  1.27364367  0.99026478  0.83243506 -0.7393315  -0.8541128\n",
      "  0.00844647  1.13344818 -0.29699114  1.28085735 -0.33414756  0.76723539\n",
      "  0.95923074 -1.58560357 -1.63297622  1.09407516  0.82427546  0.20300544\n",
      " -0.51328979  0.89461083  0.02236461 -0.69473417 -0.81084928 -0.15337292\n",
      " -0.16542797 -0.96094841 -0.3820067  -0.90349867 -1.40135396 -0.22989147\n",
      " -0.89262424 -0.45706295 -0.50807958  0.72830972 -1.29264077  0.70891335\n",
      " -0.29756555 -1.03481947  0.83399859 -0.05866106 -0.79665139 -1.05806671\n",
      "  0.03086575  0.86713319  0.70036773  0.68209679 -0.2996715   0.16158707\n",
      "  0.77786705 -1.54146904  0.51308109  0.83243476 -1.40349046  0.39206058\n",
      " -0.52521717  1.19870988  0.33655821  1.46647153  0.38074337  0.23247831\n",
      "  0.08309604  0.93834357  0.92256563  0.63049263 -0.77201514  0.50264786\n",
      " -0.89119327  0.87479241 -0.15696435  0.27845364  1.1618174  -0.22315848\n",
      " -0.16864443  1.01420782 -0.82222767 -1.93812966  1.27330916 -0.72108992\n",
      " -0.39324523 -0.51306814 -0.62365521  0.33093437 -0.13579134 -1.79265389\n",
      " -0.24984647 -0.22861522 -1.75928675 -0.26362308  0.78991079 -0.19960201\n",
      "  0.70043085 -0.94555648 -1.34549445 -0.23501549  0.11425779 -0.93350496\n",
      "  1.35233046  1.03412506 -0.75497271 -0.87757626 -0.55200572  0.69087011\n",
      " -0.46578683 -0.35644827  1.32353756 -0.8627125  -1.20183768 -1.51894512\n",
      "  2.01409706  2.08324884  0.8002688   1.05525265  0.38113766 -0.95003208\n",
      "  0.12970034  0.28435636  0.21275625 -0.47158349  2.21050993  1.04491857\n",
      "  0.07588877 -0.82196828  1.19591341 -1.09607931  0.59136326  2.28883825\n",
      "  1.51040485 -0.90868015  0.99960904 -0.71783605 -1.33231788  0.35929106\n",
      " -1.23368297 -1.5708028  -0.25073715 -0.91784104 -0.70219194  0.11144499\n",
      "  1.4347679  -0.22907441  2.0511915   1.76828851  0.38657775  1.42696265\n",
      " -1.27911771  0.09672393  0.47406226 -1.40780565 -0.75985261 -1.64945397\n",
      " -0.59128695  0.66739896  0.7599669  -1.15563899 -0.35770438  1.04211955\n",
      "  0.77603293  0.47911062 -0.83386409 -0.04400094  0.02416222 -0.27742045\n",
      " -0.65119646  0.32084391 -0.07378331  0.12313305 -0.98859344 -1.20348819\n",
      " -0.7468745  -0.73721074  0.83886369 -0.4977258   1.26773572  0.30725229\n",
      " -0.37621164 -0.47682555 -0.42611444  0.24947062 -0.59521341  0.85466432\n",
      "  1.23479504 -0.4502751   1.43076553 -0.0344959  -0.42357058  1.91092097\n",
      "  1.88132926  1.03111805 -1.07108923 -1.26358236  0.61810593 -0.76181922\n",
      " -1.78860019 -0.62563572  1.31871012  0.02734942 -0.00490795 -0.3894972\n",
      "  0.64644251 -1.55845016  0.16938192  2.209054   -0.93416621 -0.8329969\n",
      "  0.86812194  2.0180981  -0.58465142 -0.00302098 -0.26700879  2.25868432\n",
      " -0.75120193 -0.0332121  -1.23632351  0.53145246 -0.30826504 -0.21777358\n",
      " -0.11256795  0.34834338  1.03758421 -1.26934998  0.27706824  0.77142027\n",
      " -1.27328996 -2.18960678 -0.74292154 -0.87538554 -1.00130577  0.09741726\n",
      " -2.45293038 -1.41587543 -0.41329758  0.51124963 -0.47859746 -1.09717003\n",
      "  0.57312122 -0.46953081 -0.57728891  0.33545338 -0.2918371  -0.45679965\n",
      " -0.62963107 -1.03673573  0.79230835 -0.47900083  1.52377944 -1.15951625\n",
      " -0.61634741  0.61045709  0.63620158  0.03009436 -0.54063742 -0.16866705\n",
      " -0.20113089 -1.44180412  0.76614852  0.59164086  0.4781766   0.16723598\n",
      " -0.87357141 -0.35887219 -2.6353601  -0.22441876 -1.43942927  0.40728649\n",
      " -0.50603498  2.01164144 -0.40266791  0.53537305 -0.92807363  0.32068904\n",
      " -0.9280895  -0.38708647  1.66319505 -0.24684793 -1.30348048  0.26092094\n",
      " -0.45608985  0.12568158  0.02919271 -0.82396484  1.9280289  -1.73492423\n",
      " -0.84065064 -1.97152664 -0.62612737 -0.76964321 -0.91645988  1.5623264\n",
      " -0.15345256  0.7592971   0.13719626  0.68122796  0.71558052  1.28167718\n",
      "  0.72741146 -0.9019084   1.25790192  0.287734    0.72905514  1.62273191\n",
      "  1.30979614  0.25405864 -0.25778006  0.55174189 -0.9517746  -0.8185356\n",
      "  0.52475682  1.9980149   0.28780359  0.91116539  0.68523659 -0.13572791\n",
      "  1.46196731  0.09298504]\n"
     ]
    }
   ],
   "source": [
    "print(\"Fith Array:\",Array_5)"
   ]
  },
  {
   "cell_type": "code",
   "execution_count": 22,
   "metadata": {},
   "outputs": [
    {
     "data": {
      "image/png": "[encoded data removed]",
      "text/plain": [
       "<Figure size 432x288 with 1 Axes>"
      ]
     },
     "metadata": {
      "needs_background": "light"
     },
     "output_type": "display_data"
    }
   ],
   "source": [
    "# Show some histograms of data for some of arrays\n",
    "Hist_Array_5 = np.random.randn(500)\n",
    "plt.hist(Hist_Array_5, bins=20)\n",
    "plt.show()"
   ]
  },
  {
   "cell_type": "code",
   "execution_count": 9,
   "metadata": {},
   "outputs": [
    {
     "name": "stdout",
     "output_type": "stream",
     "text": [
      "                 0\n",
      "count  1000.000000\n",
      "mean     -0.039439\n",
      "std       1.029709\n",
      "min      -3.438546\n",
      "25%      -0.751654\n",
      "50%      -0.031028\n",
      "75%       0.639481\n",
      "max       2.843673\n"
     ]
    }
   ],
   "source": [
    "# Build a data frame and some some stats through describe function\n",
    "\n",
    "df_3 = pd.DataFrame(Hist_Array_5)\n",
    "print(df_3.describe())"
   ]
  },
  {
   "cell_type": "markdown",
   "metadata": {},
   "source": [
    "From histogram you can claerly see a diffrence in use of this function in producin a bell shaped curve which suggests that data is following normal distribution."
   ]
  },
  {
   "cell_type": "markdown",
   "metadata": {},
   "source": [
    "# numpy.random.randint function\n",
    "\n",
    "It returns an array of specified shape and fills it with random integers from low (inclusive) to high (exclusive), i.e. in the interval (low, high)."
   ]
  },
  {
   "cell_type": "code",
   "execution_count": 10,
   "metadata": {},
   "outputs": [
    {
     "name": "stdout",
     "output_type": "stream",
     "text": [
      "Sixth Array: 869\n",
      "Seventh Array: 629\n",
      "Eight Array: 172\n",
      "Ningth Array: 1\n"
     ]
    }
   ],
   "source": [
    "Array_6 = np.random.randint(1000)\n",
    "print(\"Sixth Array:\",Array_6)\n",
    "Array_7 = np.random.randint(1000)\n",
    "print(\"Seventh Array:\",Array_7)\n",
    "Array_8 = np.random.randint(100, high=200)\n",
    "print(\"Eight Array:\",Array_8)\n",
    "Array_9 = np.random.randint(1, high=5)\n",
    "print(\"Ningth Array:\",Array_9)"
   ]
  },
  {
   "cell_type": "markdown",
   "metadata": {},
   "source": [
    "# numpy.random.random_sample function\n",
    "\n",
    "numpy.random.random_sample() is one of the function for doing random sampling in numpy. It returns an array of specified shape and fills it with random floats in the half-open interval (0.0, 1.0). "
   ]
  },
  {
   "cell_type": "code",
   "execution_count": 11,
   "metadata": {},
   "outputs": [
    {
     "name": "stdout",
     "output_type": "stream",
     "text": [
      "Tenth Array: [0.03395414 0.48700159 0.852493   0.95104871 0.02572427 0.50515389\n",
      " 0.03142393 0.97228619 0.77108479 0.01165812 0.28279359 0.45006173\n",
      " 0.17550643 0.08090926 0.47275743 0.93135673 0.23703795 0.22905587\n",
      " 0.14959096 0.59239799 0.25011141 0.12744927 0.5374854  0.75325047\n",
      " 0.98792717 0.73927275 0.24290335 0.3581518  0.88793621 0.31295634\n",
      " 0.08732469 0.17755208 0.59307256 0.35183082 0.22131374 0.99269297\n",
      " 0.97563688 0.86713977 0.96052123 0.45906335 0.01096107 0.05126807\n",
      " 0.85022805 0.96979254 0.14837956 0.57127994 0.16072556 0.94777697\n",
      " 0.12785234 0.26334679]\n",
      "Array 11: [[0.69970482 0.39598499]\n",
      " [0.64540849 0.01504624]\n",
      " [0.14470652 0.37316736]\n",
      " [0.52479734 0.39890899]\n",
      " [0.0944431  0.33677596]\n",
      " [0.65397945 0.91451688]\n",
      " [0.59675915 0.43436535]\n",
      " [0.37598931 0.69245349]\n",
      " [0.45872548 0.196667  ]\n",
      " [0.64617153 0.41552796]\n",
      " [0.1937334  0.37047708]\n",
      " [0.72610367 0.61155876]\n",
      " [0.48447618 0.13930062]\n",
      " [0.11870942 0.99411572]\n",
      " [0.95235839 0.85160646]]\n"
     ]
    }
   ],
   "source": [
    "Array_10 = np.random.random_sample((50,))\n",
    "print(\"Tenth Array:\",Array_10)\n",
    "Array_11 = np.random.random_sample((15,2))\n",
    "print(\"Array 11:\",Array_11)"
   ]
  },
  {
   "cell_type": "markdown",
   "metadata": {},
   "source": [
    "# numpy.random.choice function\n",
    "\n",
    "Python random module‘s random.choice() function returns a random element from the non-empty sequence. It can use the choice() function for selecting a random password from word-list, Selecting a random item from the available data."
   ]
  },
  {
   "cell_type": "code",
   "execution_count": 12,
   "metadata": {},
   "outputs": [
    {
     "name": "stdout",
     "output_type": "stream",
     "text": [
      "Array 12: Hannah\n",
      "Array 13: Grace\n",
      "Array 14: ['Grace' 'Ross' 'Hannah']\n"
     ]
    }
   ],
   "source": [
    "# Created list of strings of family names\n",
    "\n",
    "Names = ['Hannah', 'Grace','Adam', 'Trina','Ross']\n",
    "\n",
    "Array_12 = np.random.choice(Names)\n",
    "print(\"Array 12:\",Array_12)\n",
    "Array_13 = np.random.choice(Names)\n",
    "print(\"Array 13:\",Array_13)\n",
    "Array_14 = np.random.choice(Names, size=3)\n",
    "print(\"Array 14:\",Array_14)"
   ]
  },
  {
   "cell_type": "markdown",
   "metadata": {},
   "source": [
    "# numpy.random.random_integers function\n",
    "\n",
    "numpy.random.random_integers() is one of the function for doing random sampling in numpy. It returns an array of specified shape and fills it with random integers from low (inclusive) to high (exclusive), i.e. in the interval (low, high)."
   ]
  },
  {
   "cell_type": "code",
   "execution_count": 13,
   "metadata": {},
   "outputs": [
    {
     "name": "stdout",
     "output_type": "stream",
     "text": [
      "3\n"
     ]
    }
   ],
   "source": [
    "int_1 = np.random.randint(10)\n",
    "print(int_1)"
   ]
  },
  {
   "cell_type": "code",
   "execution_count": 14,
   "metadata": {},
   "outputs": [
    {
     "name": "stdout",
     "output_type": "stream",
     "text": [
      "[[9 5]\n",
      " [3 2]\n",
      " [9 7]\n",
      " [6 5]\n",
      " [7 6]]\n"
     ]
    }
   ],
   "source": [
    "int_2 = np.random.randint(10, size=(5,2))\n",
    "print(int_2)"
   ]
  },
  {
   "cell_type": "markdown",
   "metadata": {},
   "source": [
    "# Permutations"
   ]
  },
  {
   "cell_type": "markdown",
   "metadata": {},
   "source": [
    "# numpy.random.shuffle function\n",
    "\n",
    "Modifies a sequence in-place by shuffling its contents. This function only shuffles the array along the first axis of a multi-dimensional array. The order of sub-arrays is changed but their contents remains the same."
   ]
  },
  {
   "cell_type": "code",
   "execution_count": 15,
   "metadata": {},
   "outputs": [
    {
     "name": "stdout",
     "output_type": "stream",
     "text": [
      "Shuffle 1: [57 80 35  8 14  9 19 45 52 71 28 78 42 30 64 43 59 81 91 39 51 10 66 38\n",
      " 50 27 54 32 87 15 25 16 60 92 58 37 56 62 85 99 20 13 33 63 21 53 65  7\n",
      " 72 44 31 82 70 79 95 61 41 68  5 40 48 22 89 94  3 73  2 36 67 17 55 83\n",
      " 18  0 75  6 69 29 76 77 12 84 49 74 96 23 34 46  4 93 90 88 97 98 11 86\n",
      " 24  1 47 26]\n",
      "Shuffle 2: [30 82 63 41  6 39 73 71  8 56 88 28 10 76 79 99 23 67 40 19 48 92  9 25\n",
      " 95 29 15 83 69 96 45  7 97 22  0  4 46 98 16 14 77 62 59 91 50 21 85 81\n",
      " 65 18 54 32 80 34 57 31 90 94 24 26 36 52 13  1 72  2 53  3 12 37 66 47\n",
      " 43  5 60 64 35 68 20 49 58 44 75 51 84 61 17 70 93 87 74 55 86 33 11 89\n",
      " 78 42 27 38]\n"
     ]
    }
   ],
   "source": [
    "arr_1 = np.arange(100)\n",
    "np.random.shuffle(arr_1)\n",
    "print('Shuffle 1:',arr_1)\n",
    "\n",
    "arr_2 = np.arange(100)\n",
    "np.random.shuffle(arr_2)\n",
    "print('Shuffle 2:',arr_2)"
   ]
  },
  {
   "cell_type": "markdown",
   "metadata": {},
   "source": [
    " # numpy.random.permutation function\n",
    " \n",
    " Randomly permute a sequence, or return a permuted range. If x is a multi-dimensional array, it is only shuffled along its first index."
   ]
  },
  {
   "cell_type": "code",
   "execution_count": 16,
   "metadata": {},
   "outputs": [
    {
     "name": "stdout",
     "output_type": "stream",
     "text": [
      "Permutation 1: ['Adam' 'Grace' 'Hannah' 'Ross' 'Trina']\n",
      "Permutation 2: ['Grace' 'Adam' 'Ross' 'Hannah' 'Trina']\n"
     ]
    }
   ],
   "source": [
    "Names = ['Ross', 'Hannah', 'Grace','Adam','Trina']\n",
    "\n",
    "Names_1 = np.random.permutation(Names)\n",
    "print('Permutation 1:',Names_1)\n",
    "Names_2 = np.random.permutation(Names)\n",
    "print('Permutation 2:',Names_2)"
   ]
  },
  {
   "cell_type": "markdown",
   "metadata": {},
   "source": [
    "# Distributions\n",
    "\n",
    "# Normal Distribution\n",
    "\n",
    "Also known as the Gaussian distribution, is a probability distribution that is symmetric about the mean, showing that data near the mean are more frequent in occurrence than data far from the mean. In graph form, normal distribution will appear as a bell curve.\n",
    "![](ND.PNG)\n",
    "\n",
    "# Rayleigh Distribution\n",
    "\n",
    "Rayleigh distribution is a continuous probability distribution for positive-valued random variables.\n",
    "![](RD.PNG)\n",
    "\n",
    "# Triangular Distribution\n",
    "\n",
    "A triangular distribution is a continuous probability distribution with a probability density function shaped like a triangle. It is defined by three values: the minimum value a, the maximum value b, and the peak value c.\n",
    "\n",
    "![](TD.PNG)\n",
    "\n",
    "# Poisson Distribution\n",
    "\n",
    "The Poisson distribution is the discrete probability distribution of the number of events occurring in a given time period, given the average number of times the event occurs over that time period.The Poisson distribution is applicable only when several conditions hold.\n",
    "\n",
    "Conditions for Poisson Distribution:\n",
    "\n",
    "1. An event can occur any number of times during a time period.\n",
    "2. Events occur independently. In other words, if an event occurs, it does not affect the probability of another event occurring in the same time period.\n",
    "3. The rate of occurrence is constant; that is, the rate does not change based on time.\n",
    "4. The probability of an event occurring is proportional to the length of the time period. For example, it should be twice as likely for an event to occur in a 2 hour time period than it is for an event to occur in a 1 hour period.\n",
    "\n",
    "![](PD.PNG)\n",
    "\n",
    "# Gamma Distribution\n",
    "\n",
    "A gamma distribution is a general type of statistical distribution that is related to the beta distribution and arises naturally in processes for which the waiting times between Poisson distributed events are relevant. \n",
    "\n",
    "![](GD.PNG)"
   ]
  },
  {
   "cell_type": "code",
   "execution_count": 25,
   "metadata": {},
   "outputs": [
    {
     "data": {
      "image/png": "[encoded data removed]",
      "text/plain": [
       "<Figure size 432x288 with 1 Axes>"
      ]
     },
     "metadata": {
      "needs_background": "light"
     },
     "output_type": "display_data"
    },
    {
     "data": {
      "image/png": "[encoded data removed]",
      "text/plain": [
       "<Figure size 432x288 with 1 Axes>"
      ]
     },
     "metadata": {
      "needs_background": "light"
     },
     "output_type": "display_data"
    },
    {
     "data": {
      "image/png": "[encoded data removed]",
      "text/plain": [
       "<Figure size 432x288 with 1 Axes>"
      ]
     },
     "metadata": {
      "needs_background": "light"
     },
     "output_type": "display_data"
    },
    {
     "data": {
      "image/png": "[encoded data removed]",
      "text/plain": [
       "<Figure size 432x288 with 1 Axes>"
      ]
     },
     "metadata": {
      "needs_background": "light"
     },
     "output_type": "display_data"
    },
    {
     "data": {
      "image/png": "[encoded data removed]",
      "text/plain": [
       "<Figure size 432x288 with 1 Axes>"
      ]
     },
     "metadata": {
      "needs_background": "light"
     },
     "output_type": "display_data"
    }
   ],
   "source": [
    "# Normal Distribution\n",
    "\n",
    "mu, sigma = 0, 0.1 \n",
    "\n",
    "s = np.random.normal(mu, sigma, 1000)\n",
    "\n",
    "count, bins, ignored = plt.hist(s, 50, density=True)\n",
    "plt.plot(bins, 1/(sigma * np.sqrt(2 * np.pi)) *\n",
    "np.exp( - (bins - mu)**2 / (2 * sigma**2) ),\n",
    "linewidth=2, color='g')\n",
    "plt.title('Normal Distribution')\n",
    "plt.show()\n",
    "\n",
    "# Rayleigh Distribution\n",
    "\n",
    "ray = np.random.rayleigh(3, 100000)\n",
    "plt.hist(ray,bins = 50)\n",
    "plt.title('Rayleigh Distribution')\n",
    "plt.show()\n",
    "\n",
    "# Triangular Distribution\n",
    "\n",
    "Tri = np.random.triangular(-3, 0, 8, 100000)\n",
    "plt.hist(Tri,bins = 50,density=True)\n",
    "plt.title('Triangular Distribution')\n",
    "plt.show()\n",
    "\n",
    "# Poisson Distribution\n",
    "\n",
    "Poi = np.random.poisson(5, 10000)\n",
    "plt.hist(Poi,bins = 25,density=True)\n",
    "plt.title('Poisson Distribution')\n",
    "plt.show()\n",
    "\n",
    "# Gamma Distribution\n",
    "\n",
    "shape, scale = 2., 2.  # mean=4, std=2*sqrt(2)\n",
    "s = np.random.gamma(shape, scale, 1000)\n",
    "\n",
    "count, bins, ignored = plt.hist(s, 50, density=True)\n",
    "y = bins**(shape-1)*(np.exp(-bins/scale) /\n",
    "(sps.gamma(shape)*scale**shape))\n",
    "plt.plot(bins, y, linewidth=2, color='g')\n",
    "plt.title('Gamma Distribution')\n",
    "plt.show()\n"
   ]
  },
  {
   "cell_type": "markdown",
   "metadata": {},
   "source": [
    "# Seeds\n",
    "\n",
    "NumPy random seed is a function that sets the random seed of the numpy pseudo-random number generator. It provides an essential input that enables numpy to generate pseudo-random numbers for random processes.\n",
    "\n",
    "pseudo-random numbers work by starting with a number (the seed), multiplying it by a large number, then taking modulo of that product. The resulting number is then used as the seed to generate the next \"random\" number. When you set the seed (every time), it does the same thing every time, giving you the same numbers.\n",
    "\n",
    "This is shown in examples below."
   ]
  },
  {
   "cell_type": "code",
   "execution_count": 18,
   "metadata": {},
   "outputs": [
    {
     "name": "stdout",
     "output_type": "stream",
     "text": [
      "Seed 1: [0.4359949  0.02592623 0.54966248 0.43532239 0.4203678  0.33033482\n",
      " 0.20464863 0.61927097 0.29965467 0.26682728]\n"
     ]
    }
   ],
   "source": [
    "np.random.seed (2)\n",
    "\n",
    "Seed_1 = np.random.rand(10)\n",
    "print('Seed 1:',Seed_1)"
   ]
  },
  {
   "cell_type": "code",
   "execution_count": 19,
   "metadata": {},
   "outputs": [
    {
     "name": "stdout",
     "output_type": "stream",
     "text": [
      "Seed 2: [0.4359949  0.02592623 0.54966248 0.43532239 0.4203678  0.33033482\n",
      " 0.20464863 0.61927097 0.29965467 0.26682728]\n"
     ]
    }
   ],
   "source": [
    "np.random.seed (2)\n",
    "\n",
    "Seed_2 = np.random.rand(10)\n",
    "print('Seed 2:',Seed_2)"
   ]
  },
  {
   "cell_type": "code",
   "execution_count": 20,
   "metadata": {},
   "outputs": [
    {
     "name": "stdout",
     "output_type": "stream",
     "text": [
      "Seed 3: [0.5507979  0.70814782 0.29090474 0.51082761 0.89294695 0.89629309\n",
      " 0.12558531 0.20724288 0.0514672  0.44080984]\n"
     ]
    }
   ],
   "source": [
    "np.random.seed (3)\n",
    "\n",
    "Seed_3 = np.random.rand(10)\n",
    "print('Seed 3:',Seed_3)"
   ]
  },
  {
   "cell_type": "code",
   "execution_count": 21,
   "metadata": {},
   "outputs": [
    {
     "name": "stdout",
     "output_type": "stream",
     "text": [
      "Seed 4: [0.5507979  0.70814782 0.29090474 0.51082761 0.89294695 0.89629309\n",
      " 0.12558531 0.20724288 0.0514672  0.44080984]\n"
     ]
    }
   ],
   "source": [
    "np.random.seed (3)\n",
    "\n",
    "Seed_4 = np.random.rand(10)\n",
    "print('Seed 4:',Seed_4)"
   ]
  },
  {
   "cell_type": "markdown",
   "metadata": {},
   "source": [
    "# References"
   ]
  },
  {
   "cell_type": "markdown",
   "metadata": {},
   "source": [
    "1. https://docs.scipy.org/doc/numpy-1.14.0/reference/routines.random.html\n",
    "2. https://www.datacamp.com/community/tutorials/probability-distributions-python\n",
    "3. https://realpython.com/python-random/\n",
    "4. https://en.wikipedia.org/wiki/Mersenne_Twister\n",
    "5. https://onlinecoursetutorials.com/numpy/numpy-random-rand-in-python\n",
    "6. https://www.geeksforgeeks.org/numpy-random-randn-python\n",
    "7. https://www.geeksforgeeks.org/random-sampling-in-numpy-randint-function\n",
    "8. https://www.geeksforgeeks.org/random-sampling-in-numpy-random_sample-function\n",
    "9. https://pynative.com/python-random-choice\n",
    "10. https://en.wikipedia.org/wiki/Normal_distribution\n",
    "11. https://en.wikipedia.org/wiki/Triangular_distribution\n",
    "12. https://en.wikipedia.org/wiki/Rayleigh_distribution\n",
    "13. https://en.wikipedia.org/wiki/Poisson_distribution\n",
    "14. https://en.wikipedia.org/wiki/Gamma_distribution\n",
    "15. https://stackoverflow.com/questions/21494489/what-does-numpy-random-seed0-do"
   ]
  },
  {
   "cell_type": "code",
   "execution_count": null,
   "metadata": {},
   "outputs": [],
   "source": []
  }
 ],
 "metadata": {
  "kernelspec": {
   "display_name": "Python 3",
   "language": "python",
   "name": "python3"
  },
  "language_info": {
   "codemirror_mode": {
    "name": "ipython",
    "version": 3
   },
   "file_extension": ".py",
   "mimetype": "text/x-python",
   "name": "python",
   "nbconvert_exporter": "python",
   "pygments_lexer": "ipython3",
   "version": "3.7.1"
  }
 },
 "nbformat": 4,
 "nbformat_minor": 2
}
